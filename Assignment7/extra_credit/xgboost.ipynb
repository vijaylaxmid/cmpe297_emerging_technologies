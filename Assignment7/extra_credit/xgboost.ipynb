{
  "nbformat": 4,
  "nbformat_minor": 0,
  "metadata": {
    "colab": {
      "name": "xgboost.ipynb",
      "provenance": [],
      "machine_shape": "hm"
    },
    "kernelspec": {
      "name": "python3",
      "display_name": "Python 3"
    },
    "accelerator": "GPU"
  },
  "cells": [
    {
      "cell_type": "markdown",
      "metadata": {
        "id": "pSdzpg2fM5oi"
      },
      "source": [
        "Import the necessary libraries"
      ]
    },
    {
      "cell_type": "code",
      "metadata": {
        "id": "OsFdo58lMvUR"
      },
      "source": [
        "import pandas as pd\n",
        "import numpy as np\n",
        "import xgboost as xgb\n",
        "import pickle\n",
        "import time\n",
        "from sklearn.base import BaseEstimator, TransformerMixin\n",
        "from sklearn.ensemble import RandomForestClassifier\n",
        "from sklearn.feature_selection import SelectKBest, chi2\n",
        "from sklearn.metrics import make_scorer, accuracy_score, classification_report, confusion_matrix\n",
        "from sklearn.model_selection import train_test_split, StratifiedKFold, cross_val_score, GridSearchCV\n",
        "from sklearn.pipeline import Pipeline, FeatureUnion\n",
        "from sklearn.preprocessing import StandardScaler, MinMaxScaler\n",
        "from xgboost import XGBClassifier"
      ],
      "execution_count": 1,
      "outputs": []
    },
    {
      "cell_type": "markdown",
      "metadata": {
        "id": "K-pPY1P-M-wF"
      },
      "source": [
        "Data loading"
      ]
    },
    {
      "cell_type": "code",
      "metadata": {
        "colab": {
          "base_uri": "https://localhost:8080/",
          "height": 292
        },
        "id": "rWJWhZzVNBea",
        "outputId": "8545a36d-d205-4e43-8996-ccf2c7e29c08"
      },
      "source": [
        "# Loading the dataset and showing the five first records.\n",
        "income = pd.read_csv(\"https://github.com/breno-madruga/machine_learning_exercises/raw/master/XGBoost%20with%20GPU%20support/income.csv\")\n",
        "income.head()"
      ],
      "execution_count": 2,
      "outputs": [
        {
          "output_type": "execute_result",
          "data": {
            "text/html": [
              "<div>\n",
              "<style scoped>\n",
              "    .dataframe tbody tr th:only-of-type {\n",
              "        vertical-align: middle;\n",
              "    }\n",
              "\n",
              "    .dataframe tbody tr th {\n",
              "        vertical-align: top;\n",
              "    }\n",
              "\n",
              "    .dataframe thead th {\n",
              "        text-align: right;\n",
              "    }\n",
              "</style>\n",
              "<table border=\"1\" class=\"dataframe\">\n",
              "  <thead>\n",
              "    <tr style=\"text-align: right;\">\n",
              "      <th></th>\n",
              "      <th>age</th>\n",
              "      <th>workclass</th>\n",
              "      <th>fnlwgt</th>\n",
              "      <th>education</th>\n",
              "      <th>education_num</th>\n",
              "      <th>marital_status</th>\n",
              "      <th>occupation</th>\n",
              "      <th>relationship</th>\n",
              "      <th>race</th>\n",
              "      <th>sex</th>\n",
              "      <th>capital_gain</th>\n",
              "      <th>capital_loss</th>\n",
              "      <th>hours_per_week</th>\n",
              "      <th>native_country</th>\n",
              "      <th>high_income</th>\n",
              "    </tr>\n",
              "  </thead>\n",
              "  <tbody>\n",
              "    <tr>\n",
              "      <th>0</th>\n",
              "      <td>39</td>\n",
              "      <td>State-gov</td>\n",
              "      <td>77516</td>\n",
              "      <td>Bachelors</td>\n",
              "      <td>13</td>\n",
              "      <td>Never-married</td>\n",
              "      <td>Adm-clerical</td>\n",
              "      <td>Not-in-family</td>\n",
              "      <td>White</td>\n",
              "      <td>Male</td>\n",
              "      <td>2174</td>\n",
              "      <td>0</td>\n",
              "      <td>40</td>\n",
              "      <td>United-States</td>\n",
              "      <td>&lt;=50K</td>\n",
              "    </tr>\n",
              "    <tr>\n",
              "      <th>1</th>\n",
              "      <td>50</td>\n",
              "      <td>Self-emp-not-inc</td>\n",
              "      <td>83311</td>\n",
              "      <td>Bachelors</td>\n",
              "      <td>13</td>\n",
              "      <td>Married-civ-spouse</td>\n",
              "      <td>Exec-managerial</td>\n",
              "      <td>Husband</td>\n",
              "      <td>White</td>\n",
              "      <td>Male</td>\n",
              "      <td>0</td>\n",
              "      <td>0</td>\n",
              "      <td>13</td>\n",
              "      <td>United-States</td>\n",
              "      <td>&lt;=50K</td>\n",
              "    </tr>\n",
              "    <tr>\n",
              "      <th>2</th>\n",
              "      <td>38</td>\n",
              "      <td>Private</td>\n",
              "      <td>215646</td>\n",
              "      <td>HS-grad</td>\n",
              "      <td>9</td>\n",
              "      <td>Divorced</td>\n",
              "      <td>Handlers-cleaners</td>\n",
              "      <td>Not-in-family</td>\n",
              "      <td>White</td>\n",
              "      <td>Male</td>\n",
              "      <td>0</td>\n",
              "      <td>0</td>\n",
              "      <td>40</td>\n",
              "      <td>United-States</td>\n",
              "      <td>&lt;=50K</td>\n",
              "    </tr>\n",
              "    <tr>\n",
              "      <th>3</th>\n",
              "      <td>53</td>\n",
              "      <td>Private</td>\n",
              "      <td>234721</td>\n",
              "      <td>11th</td>\n",
              "      <td>7</td>\n",
              "      <td>Married-civ-spouse</td>\n",
              "      <td>Handlers-cleaners</td>\n",
              "      <td>Husband</td>\n",
              "      <td>Black</td>\n",
              "      <td>Male</td>\n",
              "      <td>0</td>\n",
              "      <td>0</td>\n",
              "      <td>40</td>\n",
              "      <td>United-States</td>\n",
              "      <td>&lt;=50K</td>\n",
              "    </tr>\n",
              "    <tr>\n",
              "      <th>4</th>\n",
              "      <td>28</td>\n",
              "      <td>Private</td>\n",
              "      <td>338409</td>\n",
              "      <td>Bachelors</td>\n",
              "      <td>13</td>\n",
              "      <td>Married-civ-spouse</td>\n",
              "      <td>Prof-specialty</td>\n",
              "      <td>Wife</td>\n",
              "      <td>Black</td>\n",
              "      <td>Female</td>\n",
              "      <td>0</td>\n",
              "      <td>0</td>\n",
              "      <td>40</td>\n",
              "      <td>Cuba</td>\n",
              "      <td>&lt;=50K</td>\n",
              "    </tr>\n",
              "  </tbody>\n",
              "</table>\n",
              "</div>"
            ],
            "text/plain": [
              "   age          workclass  fnlwgt  ... hours_per_week  native_country high_income\n",
              "0   39          State-gov   77516  ...             40   United-States       <=50K\n",
              "1   50   Self-emp-not-inc   83311  ...             13   United-States       <=50K\n",
              "2   38            Private  215646  ...             40   United-States       <=50K\n",
              "3   53            Private  234721  ...             40   United-States       <=50K\n",
              "4   28            Private  338409  ...             40            Cuba       <=50K\n",
              "\n",
              "[5 rows x 15 columns]"
            ]
          },
          "metadata": {
            "tags": []
          },
          "execution_count": 2
        }
      ]
    },
    {
      "cell_type": "code",
      "metadata": {
        "colab": {
          "base_uri": "https://localhost:8080/"
        },
        "id": "EvKyrXmXNGFF",
        "outputId": "4dc14e38-f797-4855-e5c5-7dc39f0c36cf"
      },
      "source": [
        "# Verifying if there are missing values.\n",
        "income.info()"
      ],
      "execution_count": 3,
      "outputs": [
        {
          "output_type": "stream",
          "text": [
            "<class 'pandas.core.frame.DataFrame'>\n",
            "RangeIndex: 32561 entries, 0 to 32560\n",
            "Data columns (total 15 columns):\n",
            " #   Column          Non-Null Count  Dtype \n",
            "---  ------          --------------  ----- \n",
            " 0   age             32561 non-null  int64 \n",
            " 1   workclass       32561 non-null  object\n",
            " 2   fnlwgt          32561 non-null  int64 \n",
            " 3   education       32561 non-null  object\n",
            " 4   education_num   32561 non-null  int64 \n",
            " 5   marital_status  32561 non-null  object\n",
            " 6   occupation      32561 non-null  object\n",
            " 7   relationship    32561 non-null  object\n",
            " 8   race            32561 non-null  object\n",
            " 9   sex             32561 non-null  object\n",
            " 10  capital_gain    32561 non-null  int64 \n",
            " 11  capital_loss    32561 non-null  int64 \n",
            " 12  hours_per_week  32561 non-null  int64 \n",
            " 13  native_country  32561 non-null  object\n",
            " 14  high_income     32561 non-null  object\n",
            "dtypes: int64(6), object(9)\n",
            "memory usage: 3.7+ MB\n"
          ],
          "name": "stdout"
        }
      ]
    },
    {
      "cell_type": "markdown",
      "metadata": {
        "id": "giW2CHA0NLGa"
      },
      "source": [
        "Data preprocessing"
      ]
    },
    {
      "cell_type": "code",
      "metadata": {
        "id": "FVgkMACDNMac"
      },
      "source": [
        "# The only step necessary to be done outside of pipeline.\n",
        "# Converting the target column to categorical.\n",
        "col = pd.Categorical(income.high_income)\n",
        "income[\"high_income\"] = col.codes"
      ],
      "execution_count": 4,
      "outputs": []
    },
    {
      "cell_type": "code",
      "metadata": {
        "id": "e5TPGozdNPPM"
      },
      "source": [
        "# Custom Transformer that extracts columns passed as argument to its constructor.\n",
        "class FeatureSelector(BaseEstimator, TransformerMixin):\n",
        "    # Class Constructor.\n",
        "    def __init__( self, feature_names ):\n",
        "        self.feature_names = feature_names\n",
        "\n",
        "    # Returns self nothing else to do here.\n",
        "    def fit( self, X, y = None):\n",
        "        return self\n",
        "\n",
        "    # Method that describes what we need this transformer to do.\n",
        "    def transform( self, X, y = None):\n",
        "        return X[self.feature_names]"
      ],
      "execution_count": 5,
      "outputs": []
    },
    {
      "cell_type": "markdown",
      "metadata": {
        "id": "C16kf1lzNSQN"
      },
      "source": [
        "Categorical pipeline"
      ]
    },
    {
      "cell_type": "code",
      "metadata": {
        "id": "0X82siOANUIO"
      },
      "source": [
        "# Converts certain features to categorical.\n",
        "class CategoricalTransformer(BaseEstimator, TransformerMixin):\n",
        "    # Class constructor method that takes a boolean as its argument.\n",
        "    def __init__(self, new_features=True):\n",
        "        self.new_features = new_features\n",
        "\n",
        "    # Returns self nothing else to do here.\n",
        "    def fit( self, X, y = None):\n",
        "        return self\n",
        "\n",
        "    # Transformer method we wrote for this transformer.\n",
        "    def transform(self, X , y = None):\n",
        "        df = X.copy()\n",
        "        if self.new_features:\n",
        "            # Treats ? workclass as unknown.\n",
        "            df['workclass']= df['workclass'].replace('?','Unknown')\n",
        "            # Two many category level, convert just US and Non-US.\n",
        "            df.loc[df['native_country'] != ' United-States', 'native_country'] = 'non_usa'\n",
        "\n",
        "        # Converts columns to categorical.\n",
        "        for name in df.columns.to_list():\n",
        "            col = pd.Categorical(df[name])\n",
        "            df[name] = col.codes\n",
        "\n",
        "        # Returns numpy array.\n",
        "        return df"
      ],
      "execution_count": 6,
      "outputs": []
    },
    {
      "cell_type": "markdown",
      "metadata": {
        "id": "tzIoTptQNXo3"
      },
      "source": [
        "Modeling(Train and test)"
      ]
    },
    {
      "cell_type": "code",
      "metadata": {
        "id": "9McFC-F5NZwb"
      },
      "source": [
        "# Global varibles.\n",
        "seed = 42\n",
        "num_folds = 10\n",
        "scoring = {'AUC': 'roc_auc', 'Accuracy': make_scorer(accuracy_score)}"
      ],
      "execution_count": 7,
      "outputs": []
    },
    {
      "cell_type": "markdown",
      "metadata": {
        "id": "cLFbpEa8NdAX"
      },
      "source": [
        "Train/test split"
      ]
    },
    {
      "cell_type": "code",
      "metadata": {
        "id": "KqumRwdsNeQY"
      },
      "source": [
        "X_train, X_test, y_train, y_test = train_test_split(income.drop(labels=\"high_income\",axis=1),\n",
        "                                                    income[\"high_income\"],\n",
        "                                                    test_size=0.20,\n",
        "                                                    random_state=seed,\n",
        "                                                    shuffle=True,\n",
        "                                                    stratify=income[\"high_income\"])"
      ],
      "execution_count": 8,
      "outputs": []
    },
    {
      "cell_type": "code",
      "metadata": {
        "id": "OHE8AzVtNiQm"
      },
      "source": [
        "# Categrical features to pass down the categorical pipeline.\n",
        "categorical_features = income.select_dtypes(\"object\").columns.to_list()\n",
        "\n",
        "# Numerical features to pass down the numerical pipeline.\n",
        "numerical_features = income.select_dtypes(\"int64\").columns.to_list()\n",
        "\n",
        "# Defining the steps in the categorical pipeline.\n",
        "categorical_pipeline = Pipeline(steps = [('cat_selector', FeatureSelector(categorical_features)),\n",
        "                                         ('cat_transformer', CategoricalTransformer())])\n",
        "\n",
        "# Defining the steps in the numerical pipeline.\n",
        "numerical_pipeline = Pipeline(steps = [('num_selector', FeatureSelector(numerical_features)),\n",
        "                                       ('std_scaler', MinMaxScaler())])\n",
        "\n",
        "# Combining numerical and categorical piepline into one full big pipeline horizontally using FeatureUnion.\n",
        "full_pipeline_preprocessing = FeatureUnion(transformer_list = [('categorical_pipeline', categorical_pipeline),\n",
        "                                                               ('numerical_pipeline', numerical_pipeline)])"
      ],
      "execution_count": 9,
      "outputs": []
    },
    {
      "cell_type": "markdown",
      "metadata": {
        "id": "bct9ihNJNnYf"
      },
      "source": [
        "Tuning the algorithm"
      ]
    },
    {
      "cell_type": "code",
      "metadata": {
        "colab": {
          "base_uri": "https://localhost:8080/"
        },
        "id": "_CYpgvn3NpOb",
        "outputId": "fc2b26f4-c9f5-4230-8a8b-3c3443dc4b23"
      },
      "source": [
        "# The full pipeline as a step in another pipeline with an estimator as the final step.\n",
        "pipe = Pipeline(steps = [(\"full_pipeline\", full_pipeline_preprocessing),\n",
        "                         (\"fs\", SelectKBest()),\n",
        "                         (\"clf\", XGBClassifier())])\n",
        "\n",
        "# Creating a dictionary with the hyperparameters.\n",
        "search_space = [\n",
        "                {\"clf\": [RandomForestClassifier()],\n",
        "                 \"clf__n_estimators\": [800],\n",
        "                 \"clf__criterion\": [\"gini\", \"entropy\"],\n",
        "                 \"clf__max_leaf_nodes\": [300],\n",
        "                 \"clf__random_state\": [seed],\n",
        "                 \"clf__oob_score\": [True],\n",
        "                 \"fs__score_func\": [chi2],\n",
        "                 \"fs__k\": [10]},\n",
        "                {\"clf\": [XGBClassifier()],\n",
        "                 \"clf__n_estimators\": [300],\n",
        "                 \"clf__max_depth\": [4],\n",
        "                 \"clf__learning_rate\": [0.1],\n",
        "                 \"clf__random_state\": [seed],\n",
        "                 \"clf__subsample\": [1],\n",
        "                 \"clf__colsample_bytree\": [1],\n",
        "#                  \"clf__tree_method\": [\"gpu_hist\"],  # For using the GPU.\n",
        "                 \"fs__score_func\":[chi2],\n",
        "                 \"fs__k\":[13]}\n",
        "]\n",
        "\n",
        "# Defining StratifiedKFold object.\n",
        "kfold = StratifiedKFold(n_splits=num_folds, random_state=seed, shuffle=True)\n",
        "\n",
        "#############################################################################\n",
        "# return_train_score=True\n",
        "# official documentation: \"computing the scores on the training set can be\n",
        "# computationally expensive and is not strictly required to\n",
        "# select the parameters that yield the best generalization performance\".\n",
        "#############################################################################\n",
        "\n",
        "# Creating the GridSearchCV object.\n",
        "grid = GridSearchCV(estimator=pipe, \n",
        "                    param_grid=search_space,\n",
        "                    cv=kfold,\n",
        "                    scoring=scoring,\n",
        "                    return_train_score=True,\n",
        "                    n_jobs=-1,\n",
        "                    refit=\"AUC\")\n",
        "\n",
        "# Getting the time start.\n",
        "tmp = time.time()\n",
        "\n",
        "# Fitting the GridSearchCV object.\n",
        "best_model = grid.fit(X_train, y_train)\n",
        "\n",
        "# Printing the time spent.\n",
        "print(\"CPU Training Time: %s seconds\" % (str(time.time() - tmp)))  # 311.7510848045349 seconds\n",
        "# print(\"GPU Training Time: %s seconds\" % (str(time.time() - tmp)))  # 301.1867105960846 seconds"
      ],
      "execution_count": 10,
      "outputs": [
        {
          "output_type": "stream",
          "text": [
            "CPU Training Time: 153.99099349975586 seconds\n"
          ],
          "name": "stdout"
        }
      ]
    },
    {
      "cell_type": "code",
      "metadata": {
        "colab": {
          "base_uri": "https://localhost:8080/"
        },
        "id": "lKnIHbjtOVAP",
        "outputId": "0700a454-8b0c-4d30-a86f-5a13c0c8505c"
      },
      "source": [
        "print(\"Best: %f using %s\" % (best_model.best_score_,best_model.best_params_))  # 0.920415 (GPU) | 0.920279 (CPU)"
      ],
      "execution_count": 12,
      "outputs": [
        {
          "output_type": "stream",
          "text": [
            "Best: 0.923599 using {'clf': XGBClassifier(base_score=0.5, booster='gbtree', colsample_bylevel=1,\n",
            "              colsample_bynode=1, colsample_bytree=1, gamma=0,\n",
            "              learning_rate=0.1, max_delta_step=0, max_depth=4,\n",
            "              min_child_weight=1, missing=None, n_estimators=300, n_jobs=1,\n",
            "              nthread=None, objective='binary:logistic', random_state=42,\n",
            "              reg_alpha=0, reg_lambda=1, scale_pos_weight=1, seed=None,\n",
            "              silent=None, subsample=1, verbosity=1), 'clf__colsample_bytree': 1, 'clf__learning_rate': 0.1, 'clf__max_depth': 4, 'clf__n_estimators': 300, 'clf__random_state': 42, 'clf__subsample': 1, 'fs__k': 13, 'fs__score_func': <function chi2 at 0x7f03623efb70>}\n"
          ],
          "name": "stdout"
        }
      ]
    },
    {
      "cell_type": "code",
      "metadata": {
        "colab": {
          "base_uri": "https://localhost:8080/",
          "height": 213
        },
        "id": "UgIOx2MROc0F",
        "outputId": "9264ff2d-d9f7-477b-999b-1fc4e0431a30"
      },
      "source": [
        "# Analyzing the results of cross-validation process.\n",
        "result = pd.DataFrame(best_model.cv_results_)\n",
        "result.head()"
      ],
      "execution_count": 13,
      "outputs": [
        {
          "output_type": "execute_result",
          "data": {
            "text/html": [
              "<div>\n",
              "<style scoped>\n",
              "    .dataframe tbody tr th:only-of-type {\n",
              "        vertical-align: middle;\n",
              "    }\n",
              "\n",
              "    .dataframe tbody tr th {\n",
              "        vertical-align: top;\n",
              "    }\n",
              "\n",
              "    .dataframe thead th {\n",
              "        text-align: right;\n",
              "    }\n",
              "</style>\n",
              "<table border=\"1\" class=\"dataframe\">\n",
              "  <thead>\n",
              "    <tr style=\"text-align: right;\">\n",
              "      <th></th>\n",
              "      <th>mean_fit_time</th>\n",
              "      <th>std_fit_time</th>\n",
              "      <th>mean_score_time</th>\n",
              "      <th>std_score_time</th>\n",
              "      <th>param_clf</th>\n",
              "      <th>param_clf__criterion</th>\n",
              "      <th>param_clf__max_leaf_nodes</th>\n",
              "      <th>param_clf__n_estimators</th>\n",
              "      <th>param_clf__oob_score</th>\n",
              "      <th>param_clf__random_state</th>\n",
              "      <th>param_fs__k</th>\n",
              "      <th>param_fs__score_func</th>\n",
              "      <th>param_clf__colsample_bytree</th>\n",
              "      <th>param_clf__learning_rate</th>\n",
              "      <th>param_clf__max_depth</th>\n",
              "      <th>param_clf__subsample</th>\n",
              "      <th>params</th>\n",
              "      <th>split0_test_AUC</th>\n",
              "      <th>split1_test_AUC</th>\n",
              "      <th>split2_test_AUC</th>\n",
              "      <th>split3_test_AUC</th>\n",
              "      <th>split4_test_AUC</th>\n",
              "      <th>split5_test_AUC</th>\n",
              "      <th>split6_test_AUC</th>\n",
              "      <th>split7_test_AUC</th>\n",
              "      <th>split8_test_AUC</th>\n",
              "      <th>split9_test_AUC</th>\n",
              "      <th>mean_test_AUC</th>\n",
              "      <th>std_test_AUC</th>\n",
              "      <th>rank_test_AUC</th>\n",
              "      <th>split0_train_AUC</th>\n",
              "      <th>split1_train_AUC</th>\n",
              "      <th>split2_train_AUC</th>\n",
              "      <th>split3_train_AUC</th>\n",
              "      <th>split4_train_AUC</th>\n",
              "      <th>split5_train_AUC</th>\n",
              "      <th>split6_train_AUC</th>\n",
              "      <th>split7_train_AUC</th>\n",
              "      <th>split8_train_AUC</th>\n",
              "      <th>split9_train_AUC</th>\n",
              "      <th>mean_train_AUC</th>\n",
              "      <th>std_train_AUC</th>\n",
              "      <th>split0_test_Accuracy</th>\n",
              "      <th>split1_test_Accuracy</th>\n",
              "      <th>split2_test_Accuracy</th>\n",
              "      <th>split3_test_Accuracy</th>\n",
              "      <th>split4_test_Accuracy</th>\n",
              "      <th>split5_test_Accuracy</th>\n",
              "      <th>split6_test_Accuracy</th>\n",
              "      <th>split7_test_Accuracy</th>\n",
              "      <th>split8_test_Accuracy</th>\n",
              "      <th>split9_test_Accuracy</th>\n",
              "      <th>mean_test_Accuracy</th>\n",
              "      <th>std_test_Accuracy</th>\n",
              "      <th>rank_test_Accuracy</th>\n",
              "      <th>split0_train_Accuracy</th>\n",
              "      <th>split1_train_Accuracy</th>\n",
              "      <th>split2_train_Accuracy</th>\n",
              "      <th>split3_train_Accuracy</th>\n",
              "      <th>split4_train_Accuracy</th>\n",
              "      <th>split5_train_Accuracy</th>\n",
              "      <th>split6_train_Accuracy</th>\n",
              "      <th>split7_train_Accuracy</th>\n",
              "      <th>split8_train_Accuracy</th>\n",
              "      <th>split9_train_Accuracy</th>\n",
              "      <th>mean_train_Accuracy</th>\n",
              "      <th>std_train_Accuracy</th>\n",
              "    </tr>\n",
              "  </thead>\n",
              "  <tbody>\n",
              "    <tr>\n",
              "      <th>0</th>\n",
              "      <td>18.406798</td>\n",
              "      <td>0.078259</td>\n",
              "      <td>0.882006</td>\n",
              "      <td>0.008493</td>\n",
              "      <td>RandomForestClassifier(bootstrap=True, ccp_alp...</td>\n",
              "      <td>gini</td>\n",
              "      <td>300</td>\n",
              "      <td>800</td>\n",
              "      <td>True</td>\n",
              "      <td>42</td>\n",
              "      <td>10</td>\n",
              "      <td>&lt;function chi2 at 0x7f03623efb70&gt;</td>\n",
              "      <td>NaN</td>\n",
              "      <td>NaN</td>\n",
              "      <td>NaN</td>\n",
              "      <td>NaN</td>\n",
              "      <td>{'clf': RandomForestClassifier(bootstrap=True,...</td>\n",
              "      <td>0.909508</td>\n",
              "      <td>0.913253</td>\n",
              "      <td>0.919141</td>\n",
              "      <td>0.918046</td>\n",
              "      <td>0.918990</td>\n",
              "      <td>0.916836</td>\n",
              "      <td>0.908720</td>\n",
              "      <td>0.914634</td>\n",
              "      <td>0.914643</td>\n",
              "      <td>0.915146</td>\n",
              "      <td>0.914892</td>\n",
              "      <td>0.003443</td>\n",
              "      <td>3</td>\n",
              "      <td>0.940532</td>\n",
              "      <td>0.939881</td>\n",
              "      <td>0.939487</td>\n",
              "      <td>0.939930</td>\n",
              "      <td>0.939755</td>\n",
              "      <td>0.939492</td>\n",
              "      <td>0.940409</td>\n",
              "      <td>0.939620</td>\n",
              "      <td>0.939633</td>\n",
              "      <td>0.939696</td>\n",
              "      <td>0.939843</td>\n",
              "      <td>0.000343</td>\n",
              "      <td>0.857198</td>\n",
              "      <td>0.857582</td>\n",
              "      <td>0.859501</td>\n",
              "      <td>0.872553</td>\n",
              "      <td>0.864875</td>\n",
              "      <td>0.857198</td>\n",
              "      <td>0.855662</td>\n",
              "      <td>0.860653</td>\n",
              "      <td>0.857143</td>\n",
              "      <td>0.855223</td>\n",
              "      <td>0.859759</td>\n",
              "      <td>0.005028</td>\n",
              "      <td>2</td>\n",
              "      <td>0.884486</td>\n",
              "      <td>0.886747</td>\n",
              "      <td>0.885893</td>\n",
              "      <td>0.885254</td>\n",
              "      <td>0.885680</td>\n",
              "      <td>0.885296</td>\n",
              "      <td>0.884528</td>\n",
              "      <td>0.885126</td>\n",
              "      <td>0.885472</td>\n",
              "      <td>0.884533</td>\n",
              "      <td>0.885301</td>\n",
              "      <td>0.000671</td>\n",
              "    </tr>\n",
              "    <tr>\n",
              "      <th>1</th>\n",
              "      <td>20.812484</td>\n",
              "      <td>0.086407</td>\n",
              "      <td>0.938190</td>\n",
              "      <td>0.010944</td>\n",
              "      <td>RandomForestClassifier(bootstrap=True, ccp_alp...</td>\n",
              "      <td>entropy</td>\n",
              "      <td>300</td>\n",
              "      <td>800</td>\n",
              "      <td>True</td>\n",
              "      <td>42</td>\n",
              "      <td>10</td>\n",
              "      <td>&lt;function chi2 at 0x7f03623efb70&gt;</td>\n",
              "      <td>NaN</td>\n",
              "      <td>NaN</td>\n",
              "      <td>NaN</td>\n",
              "      <td>NaN</td>\n",
              "      <td>{'clf': RandomForestClassifier(bootstrap=True,...</td>\n",
              "      <td>0.909143</td>\n",
              "      <td>0.913503</td>\n",
              "      <td>0.921321</td>\n",
              "      <td>0.919094</td>\n",
              "      <td>0.919162</td>\n",
              "      <td>0.917800</td>\n",
              "      <td>0.909160</td>\n",
              "      <td>0.915895</td>\n",
              "      <td>0.914637</td>\n",
              "      <td>0.915794</td>\n",
              "      <td>0.915551</td>\n",
              "      <td>0.003887</td>\n",
              "      <td>2</td>\n",
              "      <td>0.941352</td>\n",
              "      <td>0.940948</td>\n",
              "      <td>0.940702</td>\n",
              "      <td>0.940749</td>\n",
              "      <td>0.940924</td>\n",
              "      <td>0.940845</td>\n",
              "      <td>0.941429</td>\n",
              "      <td>0.940772</td>\n",
              "      <td>0.940790</td>\n",
              "      <td>0.940961</td>\n",
              "      <td>0.940947</td>\n",
              "      <td>0.000237</td>\n",
              "      <td>0.857965</td>\n",
              "      <td>0.855662</td>\n",
              "      <td>0.859501</td>\n",
              "      <td>0.873704</td>\n",
              "      <td>0.862956</td>\n",
              "      <td>0.856046</td>\n",
              "      <td>0.855662</td>\n",
              "      <td>0.859117</td>\n",
              "      <td>0.856759</td>\n",
              "      <td>0.856759</td>\n",
              "      <td>0.859413</td>\n",
              "      <td>0.005221</td>\n",
              "      <td>3</td>\n",
              "      <td>0.878215</td>\n",
              "      <td>0.879410</td>\n",
              "      <td>0.880049</td>\n",
              "      <td>0.877874</td>\n",
              "      <td>0.879111</td>\n",
              "      <td>0.878983</td>\n",
              "      <td>0.878514</td>\n",
              "      <td>0.877959</td>\n",
              "      <td>0.879202</td>\n",
              "      <td>0.878007</td>\n",
              "      <td>0.878732</td>\n",
              "      <td>0.000692</td>\n",
              "    </tr>\n",
              "    <tr>\n",
              "      <th>2</th>\n",
              "      <td>6.074407</td>\n",
              "      <td>0.657095</td>\n",
              "      <td>0.107407</td>\n",
              "      <td>0.013742</td>\n",
              "      <td>XGBClassifier(base_score=0.5, booster='gbtree'...</td>\n",
              "      <td>NaN</td>\n",
              "      <td>NaN</td>\n",
              "      <td>300</td>\n",
              "      <td>NaN</td>\n",
              "      <td>42</td>\n",
              "      <td>13</td>\n",
              "      <td>&lt;function chi2 at 0x7f03623efb70&gt;</td>\n",
              "      <td>1</td>\n",
              "      <td>0.1</td>\n",
              "      <td>4</td>\n",
              "      <td>1</td>\n",
              "      <td>{'clf': XGBClassifier(base_score=0.5, booster=...</td>\n",
              "      <td>0.923436</td>\n",
              "      <td>0.926076</td>\n",
              "      <td>0.933418</td>\n",
              "      <td>0.929958</td>\n",
              "      <td>0.927379</td>\n",
              "      <td>0.927170</td>\n",
              "      <td>0.916369</td>\n",
              "      <td>0.916896</td>\n",
              "      <td>0.917993</td>\n",
              "      <td>0.917296</td>\n",
              "      <td>0.923599</td>\n",
              "      <td>0.005817</td>\n",
              "      <td>1</td>\n",
              "      <td>0.942508</td>\n",
              "      <td>0.942237</td>\n",
              "      <td>0.941621</td>\n",
              "      <td>0.941728</td>\n",
              "      <td>0.941654</td>\n",
              "      <td>0.942172</td>\n",
              "      <td>0.942529</td>\n",
              "      <td>0.941495</td>\n",
              "      <td>0.941915</td>\n",
              "      <td>0.941105</td>\n",
              "      <td>0.941896</td>\n",
              "      <td>0.000438</td>\n",
              "      <td>0.867179</td>\n",
              "      <td>0.869098</td>\n",
              "      <td>0.876008</td>\n",
              "      <td>0.878695</td>\n",
              "      <td>0.866027</td>\n",
              "      <td>0.869866</td>\n",
              "      <td>0.856046</td>\n",
              "      <td>0.856430</td>\n",
              "      <td>0.853303</td>\n",
              "      <td>0.852919</td>\n",
              "      <td>0.864557</td>\n",
              "      <td>0.008885</td>\n",
              "      <td>1</td>\n",
              "      <td>0.884486</td>\n",
              "      <td>0.885552</td>\n",
              "      <td>0.885595</td>\n",
              "      <td>0.882950</td>\n",
              "      <td>0.884614</td>\n",
              "      <td>0.886363</td>\n",
              "      <td>0.884656</td>\n",
              "      <td>0.884017</td>\n",
              "      <td>0.885386</td>\n",
              "      <td>0.884064</td>\n",
              "      <td>0.884768</td>\n",
              "      <td>0.000933</td>\n",
              "    </tr>\n",
              "  </tbody>\n",
              "</table>\n",
              "</div>"
            ],
            "text/plain": [
              "   mean_fit_time  std_fit_time  ...  mean_train_Accuracy  std_train_Accuracy\n",
              "0      18.406798      0.078259  ...             0.885301            0.000671\n",
              "1      20.812484      0.086407  ...             0.878732            0.000692\n",
              "2       6.074407      0.657095  ...             0.884768            0.000933\n",
              "\n",
              "[3 rows x 67 columns]"
            ]
          },
          "metadata": {
            "tags": []
          },
          "execution_count": 13
        }
      ]
    },
    {
      "cell_type": "code",
      "metadata": {
        "colab": {
          "base_uri": "https://localhost:8080/",
          "height": 80
        },
        "id": "4kM8oWeiOfxg",
        "outputId": "d356d14a-fbd9-4748-bd45-58eac7c4ff01"
      },
      "source": [
        "# ROC of best model.\n",
        "result[result.rank_test_AUC == 1][['mean_train_AUC', 'std_train_AUC','mean_test_AUC', 'std_test_AUC']]"
      ],
      "execution_count": 14,
      "outputs": [
        {
          "output_type": "execute_result",
          "data": {
            "text/html": [
              "<div>\n",
              "<style scoped>\n",
              "    .dataframe tbody tr th:only-of-type {\n",
              "        vertical-align: middle;\n",
              "    }\n",
              "\n",
              "    .dataframe tbody tr th {\n",
              "        vertical-align: top;\n",
              "    }\n",
              "\n",
              "    .dataframe thead th {\n",
              "        text-align: right;\n",
              "    }\n",
              "</style>\n",
              "<table border=\"1\" class=\"dataframe\">\n",
              "  <thead>\n",
              "    <tr style=\"text-align: right;\">\n",
              "      <th></th>\n",
              "      <th>mean_train_AUC</th>\n",
              "      <th>std_train_AUC</th>\n",
              "      <th>mean_test_AUC</th>\n",
              "      <th>std_test_AUC</th>\n",
              "    </tr>\n",
              "  </thead>\n",
              "  <tbody>\n",
              "    <tr>\n",
              "      <th>2</th>\n",
              "      <td>0.941896</td>\n",
              "      <td>0.000438</td>\n",
              "      <td>0.923599</td>\n",
              "      <td>0.005817</td>\n",
              "    </tr>\n",
              "  </tbody>\n",
              "</table>\n",
              "</div>"
            ],
            "text/plain": [
              "   mean_train_AUC  std_train_AUC  mean_test_AUC  std_test_AUC\n",
              "2        0.941896       0.000438       0.923599      0.005817"
            ]
          },
          "metadata": {
            "tags": []
          },
          "execution_count": 14
        }
      ]
    },
    {
      "cell_type": "code",
      "metadata": {
        "colab": {
          "base_uri": "https://localhost:8080/",
          "height": 142
        },
        "id": "YUNMe00pOiIM",
        "outputId": "e88cd587-a354-44e9-8367-157b56d51e4a"
      },
      "source": [
        "# Training score much higher than test score.\n",
        "# The standard deviation of the test score is large.\n",
        "result_auc = result[['mean_train_AUC', 'std_train_AUC','mean_test_AUC', 'std_test_AUC']]\n",
        "result_auc"
      ],
      "execution_count": 15,
      "outputs": [
        {
          "output_type": "execute_result",
          "data": {
            "text/html": [
              "<div>\n",
              "<style scoped>\n",
              "    .dataframe tbody tr th:only-of-type {\n",
              "        vertical-align: middle;\n",
              "    }\n",
              "\n",
              "    .dataframe tbody tr th {\n",
              "        vertical-align: top;\n",
              "    }\n",
              "\n",
              "    .dataframe thead th {\n",
              "        text-align: right;\n",
              "    }\n",
              "</style>\n",
              "<table border=\"1\" class=\"dataframe\">\n",
              "  <thead>\n",
              "    <tr style=\"text-align: right;\">\n",
              "      <th></th>\n",
              "      <th>mean_train_AUC</th>\n",
              "      <th>std_train_AUC</th>\n",
              "      <th>mean_test_AUC</th>\n",
              "      <th>std_test_AUC</th>\n",
              "    </tr>\n",
              "  </thead>\n",
              "  <tbody>\n",
              "    <tr>\n",
              "      <th>0</th>\n",
              "      <td>0.939843</td>\n",
              "      <td>0.000343</td>\n",
              "      <td>0.914892</td>\n",
              "      <td>0.003443</td>\n",
              "    </tr>\n",
              "    <tr>\n",
              "      <th>1</th>\n",
              "      <td>0.940947</td>\n",
              "      <td>0.000237</td>\n",
              "      <td>0.915551</td>\n",
              "      <td>0.003887</td>\n",
              "    </tr>\n",
              "    <tr>\n",
              "      <th>2</th>\n",
              "      <td>0.941896</td>\n",
              "      <td>0.000438</td>\n",
              "      <td>0.923599</td>\n",
              "      <td>0.005817</td>\n",
              "    </tr>\n",
              "  </tbody>\n",
              "</table>\n",
              "</div>"
            ],
            "text/plain": [
              "   mean_train_AUC  std_train_AUC  mean_test_AUC  std_test_AUC\n",
              "0        0.939843       0.000343       0.914892      0.003443\n",
              "1        0.940947       0.000237       0.915551      0.003887\n",
              "2        0.941896       0.000438       0.923599      0.005817"
            ]
          },
          "metadata": {
            "tags": []
          },
          "execution_count": 15
        }
      ]
    },
    {
      "cell_type": "code",
      "metadata": {
        "colab": {
          "base_uri": "https://localhost:8080/",
          "height": 142
        },
        "id": "ToFN3B7GOkwx",
        "outputId": "f5a3d78d-5ac9-4b55-d192-2a3d419186f8"
      },
      "source": [
        "result_acc = result[['mean_train_Accuracy', 'std_train_Accuracy','mean_test_Accuracy', 'std_test_Accuracy']]\n",
        "result_acc"
      ],
      "execution_count": 16,
      "outputs": [
        {
          "output_type": "execute_result",
          "data": {
            "text/html": [
              "<div>\n",
              "<style scoped>\n",
              "    .dataframe tbody tr th:only-of-type {\n",
              "        vertical-align: middle;\n",
              "    }\n",
              "\n",
              "    .dataframe tbody tr th {\n",
              "        vertical-align: top;\n",
              "    }\n",
              "\n",
              "    .dataframe thead th {\n",
              "        text-align: right;\n",
              "    }\n",
              "</style>\n",
              "<table border=\"1\" class=\"dataframe\">\n",
              "  <thead>\n",
              "    <tr style=\"text-align: right;\">\n",
              "      <th></th>\n",
              "      <th>mean_train_Accuracy</th>\n",
              "      <th>std_train_Accuracy</th>\n",
              "      <th>mean_test_Accuracy</th>\n",
              "      <th>std_test_Accuracy</th>\n",
              "    </tr>\n",
              "  </thead>\n",
              "  <tbody>\n",
              "    <tr>\n",
              "      <th>0</th>\n",
              "      <td>0.885301</td>\n",
              "      <td>0.000671</td>\n",
              "      <td>0.859759</td>\n",
              "      <td>0.005028</td>\n",
              "    </tr>\n",
              "    <tr>\n",
              "      <th>1</th>\n",
              "      <td>0.878732</td>\n",
              "      <td>0.000692</td>\n",
              "      <td>0.859413</td>\n",
              "      <td>0.005221</td>\n",
              "    </tr>\n",
              "    <tr>\n",
              "      <th>2</th>\n",
              "      <td>0.884768</td>\n",
              "      <td>0.000933</td>\n",
              "      <td>0.864557</td>\n",
              "      <td>0.008885</td>\n",
              "    </tr>\n",
              "  </tbody>\n",
              "</table>\n",
              "</div>"
            ],
            "text/plain": [
              "   mean_train_Accuracy  ...  std_test_Accuracy\n",
              "0             0.885301  ...           0.005028\n",
              "1             0.878732  ...           0.005221\n",
              "2             0.884768  ...           0.008885\n",
              "\n",
              "[3 rows x 4 columns]"
            ]
          },
          "metadata": {
            "tags": []
          },
          "execution_count": 16
        }
      ]
    },
    {
      "cell_type": "markdown",
      "metadata": {
        "id": "W9f2VJlJOpO3"
      },
      "source": [
        "Final model"
      ]
    },
    {
      "cell_type": "code",
      "metadata": {
        "id": "nToCV6zDOn3Y"
      },
      "source": [
        "# Serializing the best model.\n",
        "with open('pipe.pkl', 'wb') as file:\n",
        "    pickle.dump(best_model, file)"
      ],
      "execution_count": 17,
      "outputs": []
    },
    {
      "cell_type": "code",
      "metadata": {
        "id": "EpGf2CFZOsk7"
      },
      "source": [
        "# Restoring the best model.\n",
        "with open(\"pipe.pkl\", \"rb\") as file:\n",
        "    best_model = pickle.load(file)"
      ],
      "execution_count": 18,
      "outputs": []
    },
    {
      "cell_type": "code",
      "metadata": {
        "colab": {
          "base_uri": "https://localhost:8080/"
        },
        "id": "EJRFMl7bOu0T",
        "outputId": "8f4a9583-64de-4d91-b62b-40ba5a5d79ed"
      },
      "source": [
        "# Testing final model.\n",
        "predict = best_model.predict(X_test)\n",
        "print(\"Accuracy of testing: \", accuracy_score(y_test, predict), \"\\n\")  # 0.8765545831414094 (GPU) | 0.8747121142330723 (CPU)\n",
        "print(\"Confusion Matrix:\\n\", confusion_matrix(y_test,predict), \"\\n\")\n",
        "print(\"Classification report:\\n\", classification_report(y_test,predict))"
      ],
      "execution_count": 19,
      "outputs": [
        {
          "output_type": "stream",
          "text": [
            "Accuracy of testing:  0.8747121142330723 \n",
            "\n",
            "Confusion Matrix:\n",
            " [[4652  293]\n",
            " [ 523 1045]] \n",
            "\n",
            "Classification report:\n",
            "               precision    recall  f1-score   support\n",
            "\n",
            "           0       0.90      0.94      0.92      4945\n",
            "           1       0.78      0.67      0.72      1568\n",
            "\n",
            "    accuracy                           0.87      6513\n",
            "   macro avg       0.84      0.80      0.82      6513\n",
            "weighted avg       0.87      0.87      0.87      6513\n",
            "\n"
          ],
          "name": "stdout"
        }
      ]
    }
  ]
}