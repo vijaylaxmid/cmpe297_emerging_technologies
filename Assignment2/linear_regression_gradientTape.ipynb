{
  "nbformat": 4,
  "nbformat_minor": 0,
  "metadata": {
    "colab": {
      "name": "linear_regression_gradientTape.ipynb",
      "provenance": []
    },
    "kernelspec": {
      "name": "python3",
      "display_name": "Python 3"
    }
  },
  "cells": [
    {
      "cell_type": "markdown",
      "metadata": {
        "id": "bEB_dYqqJg-y",
        "colab_type": "text"
      },
      "source": [
        "Import the necessary libraries"
      ]
    },
    {
      "cell_type": "code",
      "metadata": {
        "id": "JQgEbU1CJhed",
        "colab_type": "code",
        "colab": {}
      },
      "source": [
        "import tensorflow as tf\n",
        "import matplotlib.pyplot as plt\n",
        "from tensorflow.keras.datasets import boston_housing"
      ],
      "execution_count": 39,
      "outputs": []
    },
    {
      "cell_type": "markdown",
      "metadata": {
        "id": "RpeP5LhFOhdy",
        "colab_type": "text"
      },
      "source": [
        "Create SimpleLinearRegression class with initialization options\n",
        "\n",
        "\n",
        "* tf.random.uniform will generate a tensor with random values from  uniform distribution within the range minval and maxval with shape shape\n",
        "\n",
        "Next Loss function is implemented\n",
        "* The predict method is done by simplifying the linear equation. First we take the dot product of m (slope tensor) and x (feature tensor) and add the y-intercept \n",
        "\n",
        "Update paramaters\n",
        "* We use tf.GradientTape to achive it.\n",
        "\n",
        "Finally we are creating the function to train the model\n",
        "\n"
      ]
    },
    {
      "cell_type": "code",
      "metadata": {
        "id": "28UQEKRBLwcR",
        "colab_type": "code",
        "colab": {}
      },
      "source": [
        "class SimpleLinearRegression:\n",
        "    def __init__(self, initializer='random'):\n",
        "        if initializer=='ones':\n",
        "            self.var = 1.\n",
        "        elif initializer=='zeros':\n",
        "            self.var = 0.\n",
        "        elif initializer=='random':\n",
        "            selfx.var = tf.random.uniform(shape=[], minval=0., maxval=1.)\n",
        "            \n",
        "        self.m = tf.Variable(1., shape=tf.TensorShape(None))\n",
        "        self.b = tf.Variable(self.var)\n",
        "        \n",
        "    def predict(self, x):\n",
        "        return tf.reduce_sum(self.m * x, 1) + self.b\n",
        "    \n",
        "    def mse(self, true, predicted):\n",
        "        return tf.reduce_mean(tf.square(true-predicted))\n",
        "    \n",
        "    def update(self, X, y, learning_rate):\n",
        "        with tf.GradientTape(persistent=True) as g:\n",
        "            loss = self.mse(y, self.predict(X))\n",
        "            \n",
        "        print(\"Loss: \", loss)\n",
        "\n",
        "        dy_dm = g.gradient(loss, self.m)\n",
        "        dy_db = g.gradient(loss, self.b)\n",
        "        \n",
        "        self.m.assign_sub(learning_rate * dy_dm)\n",
        "        self.b.assign_sub(learning_rate * dy_db)\n",
        "    \n",
        "    def train(self, X, y, learning_rate=0.01, epochs=5):\n",
        "        \n",
        "        if len(X.shape)==1:\n",
        "            X=tf.reshape(X,[X.shape[0],1])\n",
        "        \n",
        "        self.m.assign([self.var]*X.shape[-1])\n",
        "        \n",
        "        for i in range(epochs):\n",
        "            print(\"Epoch: \", i)\n",
        "            \n",
        "            self.update(X, y, learning_rate)"
      ],
      "execution_count": 40,
      "outputs": []
    },
    {
      "cell_type": "markdown",
      "metadata": {
        "id": "TQX5OXQRPdzb",
        "colab_type": "text"
      },
      "source": [
        "We test our algorithm using the Boston Housing dataset."
      ]
    },
    {
      "cell_type": "code",
      "metadata": {
        "id": "57VVNZBpKor3",
        "colab_type": "code",
        "colab": {}
      },
      "source": [
        "(x_train, y_train), (x_test, y_test) = boston_housing.load_data()"
      ],
      "execution_count": 41,
      "outputs": []
    },
    {
      "cell_type": "markdown",
      "metadata": {
        "id": "CYRdq2TYKvp_",
        "colab_type": "text"
      },
      "source": [
        "Standardize the data"
      ]
    },
    {
      "cell_type": "code",
      "metadata": {
        "id": "xy4F9T5XKw_J",
        "colab_type": "code",
        "colab": {}
      },
      "source": [
        "mean_label = y_train.mean(axis=0)\n",
        "std_label = y_train.std(axis=0)\n",
        "mean_feat = x_train.mean(axis=0)\n",
        "std_feat = x_train.std(axis=0)\n",
        "x_train = (x_train-mean_feat)/std_feat\n",
        "y_train = (y_train-mean_label)/std_label"
      ],
      "execution_count": 42,
      "outputs": []
    },
    {
      "cell_type": "markdown",
      "metadata": {
        "id": "NqoaSba9Kzx3",
        "colab_type": "text"
      },
      "source": [
        "Create and train a SimpleLinearRegression object"
      ]
    },
    {
      "cell_type": "code",
      "metadata": {
        "id": "3GHr9rpQK2Rj",
        "colab_type": "code",
        "colab": {
          "base_uri": "https://localhost:8080/",
          "height": 1000
        },
        "outputId": "53093672-9087-4b7e-bb6b-c00a1838729d"
      },
      "source": [
        "linear_model = SimpleLinearRegression('zeros')\n",
        "linear_model.train(x_train, y_train, learning_rate=0.1, epochs=50)"
      ],
      "execution_count": 43,
      "outputs": [
        {
          "output_type": "stream",
          "text": [
            "Epoch:  0\n",
            "Loss:  tf.Tensor(1.0, shape=(), dtype=float32)\n",
            "Epoch:  1\n",
            "Loss:  tf.Tensor(0.52037114, shape=(), dtype=float32)\n",
            "Epoch:  2\n",
            "Loss:  tf.Tensor(0.42164913, shape=(), dtype=float32)\n",
            "Epoch:  3\n",
            "Loss:  tf.Tensor(0.37224513, shape=(), dtype=float32)\n",
            "Epoch:  4\n",
            "Loss:  tf.Tensor(0.34227636, shape=(), dtype=float32)\n",
            "Epoch:  5\n",
            "Loss:  tf.Tensor(0.32331645, shape=(), dtype=float32)\n",
            "Epoch:  6\n",
            "Loss:  tf.Tensor(0.31094155, shape=(), dtype=float32)\n",
            "Epoch:  7\n",
            "Loss:  tf.Tensor(0.3025783, shape=(), dtype=float32)\n",
            "Epoch:  8\n",
            "Loss:  tf.Tensor(0.29670173, shape=(), dtype=float32)\n",
            "Epoch:  9\n",
            "Loss:  tf.Tensor(0.29239807, shape=(), dtype=float32)\n",
            "Epoch:  10\n",
            "Loss:  tf.Tensor(0.28911325, shape=(), dtype=float32)\n",
            "Epoch:  11\n",
            "Loss:  tf.Tensor(0.2865066, shape=(), dtype=float32)\n",
            "Epoch:  12\n",
            "Loss:  tf.Tensor(0.28436556, shape=(), dtype=float32)\n",
            "Epoch:  13\n",
            "Loss:  tf.Tensor(0.2825551, shape=(), dtype=float32)\n",
            "Epoch:  14\n",
            "Loss:  tf.Tensor(0.2809877, shape=(), dtype=float32)\n",
            "Epoch:  15\n",
            "Loss:  tf.Tensor(0.27960542, shape=(), dtype=float32)\n",
            "Epoch:  16\n",
            "Loss:  tf.Tensor(0.2783688, shape=(), dtype=float32)\n",
            "Epoch:  17\n",
            "Loss:  tf.Tensor(0.27725047, shape=(), dtype=float32)\n",
            "Epoch:  18\n",
            "Loss:  tf.Tensor(0.27623072, shape=(), dtype=float32)\n",
            "Epoch:  19\n",
            "Loss:  tf.Tensor(0.2752949, shape=(), dtype=float32)\n",
            "Epoch:  20\n",
            "Loss:  tf.Tensor(0.2744321, shape=(), dtype=float32)\n",
            "Epoch:  21\n",
            "Loss:  tf.Tensor(0.2736335, shape=(), dtype=float32)\n",
            "Epoch:  22\n",
            "Loss:  tf.Tensor(0.27289227, shape=(), dtype=float32)\n",
            "Epoch:  23\n",
            "Loss:  tf.Tensor(0.27220255, shape=(), dtype=float32)\n",
            "Epoch:  24\n",
            "Loss:  tf.Tensor(0.27155966, shape=(), dtype=float32)\n",
            "Epoch:  25\n",
            "Loss:  tf.Tensor(0.2709594, shape=(), dtype=float32)\n",
            "Epoch:  26\n",
            "Loss:  tf.Tensor(0.27039823, shape=(), dtype=float32)\n",
            "Epoch:  27\n",
            "Loss:  tf.Tensor(0.26987302, shape=(), dtype=float32)\n",
            "Epoch:  28\n",
            "Loss:  tf.Tensor(0.26938093, shape=(), dtype=float32)\n",
            "Epoch:  29\n",
            "Loss:  tf.Tensor(0.26891947, shape=(), dtype=float32)\n",
            "Epoch:  30\n",
            "Loss:  tf.Tensor(0.2684864, shape=(), dtype=float32)\n",
            "Epoch:  31\n",
            "Loss:  tf.Tensor(0.26807964, shape=(), dtype=float32)\n",
            "Epoch:  32\n",
            "Loss:  tf.Tensor(0.26769733, shape=(), dtype=float32)\n",
            "Epoch:  33\n",
            "Loss:  tf.Tensor(0.26733774, shape=(), dtype=float32)\n",
            "Epoch:  34\n",
            "Loss:  tf.Tensor(0.2669993, shape=(), dtype=float32)\n",
            "Epoch:  35\n",
            "Loss:  tf.Tensor(0.2666806, shape=(), dtype=float32)\n",
            "Epoch:  36\n",
            "Loss:  tf.Tensor(0.26638022, shape=(), dtype=float32)\n",
            "Epoch:  37\n",
            "Loss:  tf.Tensor(0.2660971, shape=(), dtype=float32)\n",
            "Epoch:  38\n",
            "Loss:  tf.Tensor(0.26582992, shape=(), dtype=float32)\n",
            "Epoch:  39\n",
            "Loss:  tf.Tensor(0.26557773, shape=(), dtype=float32)\n",
            "Epoch:  40\n",
            "Loss:  tf.Tensor(0.26533958, shape=(), dtype=float32)\n",
            "Epoch:  41\n",
            "Loss:  tf.Tensor(0.2651145, shape=(), dtype=float32)\n",
            "Epoch:  42\n",
            "Loss:  tf.Tensor(0.26490158, shape=(), dtype=float32)\n",
            "Epoch:  43\n",
            "Loss:  tf.Tensor(0.2647002, shape=(), dtype=float32)\n",
            "Epoch:  44\n",
            "Loss:  tf.Tensor(0.26450953, shape=(), dtype=float32)\n",
            "Epoch:  45\n",
            "Loss:  tf.Tensor(0.26432893, shape=(), dtype=float32)\n",
            "Epoch:  46\n",
            "Loss:  tf.Tensor(0.26415777, shape=(), dtype=float32)\n",
            "Epoch:  47\n",
            "Loss:  tf.Tensor(0.26399544, shape=(), dtype=float32)\n",
            "Epoch:  48\n",
            "Loss:  tf.Tensor(0.26384145, shape=(), dtype=float32)\n",
            "Epoch:  49\n",
            "Loss:  tf.Tensor(0.26369524, shape=(), dtype=float32)\n"
          ],
          "name": "stdout"
        }
      ]
    },
    {
      "cell_type": "markdown",
      "metadata": {
        "id": "oECD1mqkL62R",
        "colab_type": "text"
      },
      "source": [
        "Predict using test set"
      ]
    },
    {
      "cell_type": "code",
      "metadata": {
        "id": "MtVpPhkaL8S6",
        "colab_type": "code",
        "colab": {}
      },
      "source": [
        "# standardize\n",
        "x_test = (x_test-mean_feat)/std_feat\n",
        "# reverse standardization\n",
        "pred = linear_model.predict(x_test)\n",
        "pred *= std_label\n",
        "pred += mean_label"
      ],
      "execution_count": 44,
      "outputs": []
    },
    {
      "cell_type": "code",
      "metadata": {
        "id": "kk-ttmIVMMBG",
        "colab_type": "code",
        "colab": {
          "base_uri": "https://localhost:8080/",
          "height": 1000
        },
        "outputId": "daa842be-36cf-4601-cac5-f21d62e12cb3"
      },
      "source": [
        "linear_model.train(x_test,pred, learning_rate=0.1, epochs=50)"
      ],
      "execution_count": 45,
      "outputs": [
        {
          "output_type": "stream",
          "text": [
            "Epoch:  0\n",
            "Loss:  tf.Tensor(591.33124, shape=(), dtype=float32)\n",
            "Epoch:  1\n",
            "Loss:  tf.Tensor(329.2733, shape=(), dtype=float32)\n",
            "Epoch:  2\n",
            "Loss:  tf.Tensor(199.77443, shape=(), dtype=float32)\n",
            "Epoch:  3\n",
            "Loss:  tf.Tensor(125.52006, shape=(), dtype=float32)\n",
            "Epoch:  4\n",
            "Loss:  tf.Tensor(80.99035, shape=(), dtype=float32)\n",
            "Epoch:  5\n",
            "Loss:  tf.Tensor(53.47136, shape=(), dtype=float32)\n",
            "Epoch:  6\n",
            "Loss:  tf.Tensor(36.074688, shape=(), dtype=float32)\n",
            "Epoch:  7\n",
            "Loss:  tf.Tensor(24.879122, shape=(), dtype=float32)\n",
            "Epoch:  8\n",
            "Loss:  tf.Tensor(17.565968, shape=(), dtype=float32)\n",
            "Epoch:  9\n",
            "Loss:  tf.Tensor(12.723885, shape=(), dtype=float32)\n",
            "Epoch:  10\n",
            "Loss:  tf.Tensor(9.474973, shape=(), dtype=float32)\n",
            "Epoch:  11\n",
            "Loss:  tf.Tensor(7.2641582, shape=(), dtype=float32)\n",
            "Epoch:  12\n",
            "Loss:  tf.Tensor(5.736061, shape=(), dtype=float32)\n",
            "Epoch:  13\n",
            "Loss:  tf.Tensor(4.66089, shape=(), dtype=float32)\n",
            "Epoch:  14\n",
            "Loss:  tf.Tensor(3.8888466, shape=(), dtype=float32)\n",
            "Epoch:  15\n",
            "Loss:  tf.Tensor(3.3215857, shape=(), dtype=float32)\n",
            "Epoch:  16\n",
            "Loss:  tf.Tensor(2.8941402, shape=(), dtype=float32)\n",
            "Epoch:  17\n",
            "Loss:  tf.Tensor(2.5633228, shape=(), dtype=float32)\n",
            "Epoch:  18\n",
            "Loss:  tf.Tensor(2.300254, shape=(), dtype=float32)\n",
            "Epoch:  19\n",
            "Loss:  tf.Tensor(2.0854893, shape=(), dtype=float32)\n",
            "Epoch:  20\n",
            "Loss:  tf.Tensor(1.9058416, shape=(), dtype=float32)\n",
            "Epoch:  21\n",
            "Loss:  tf.Tensor(1.7522877, shape=(), dtype=float32)\n",
            "Epoch:  22\n",
            "Loss:  tf.Tensor(1.6185971, shape=(), dtype=float32)\n",
            "Epoch:  23\n",
            "Loss:  tf.Tensor(1.5004092, shape=(), dtype=float32)\n",
            "Epoch:  24\n",
            "Loss:  tf.Tensor(1.3946326, shape=(), dtype=float32)\n",
            "Epoch:  25\n",
            "Loss:  tf.Tensor(1.2990372, shape=(), dtype=float32)\n",
            "Epoch:  26\n",
            "Loss:  tf.Tensor(1.211984, shape=(), dtype=float32)\n",
            "Epoch:  27\n",
            "Loss:  tf.Tensor(1.1322403, shape=(), dtype=float32)\n",
            "Epoch:  28\n",
            "Loss:  tf.Tensor(1.0588608, shape=(), dtype=float32)\n",
            "Epoch:  29\n",
            "Loss:  tf.Tensor(0.99109906, shape=(), dtype=float32)\n",
            "Epoch:  30\n",
            "Loss:  tf.Tensor(0.9283559, shape=(), dtype=float32)\n",
            "Epoch:  31\n",
            "Loss:  tf.Tensor(0.8701353, shape=(), dtype=float32)\n",
            "Epoch:  32\n",
            "Loss:  tf.Tensor(0.8160216, shape=(), dtype=float32)\n",
            "Epoch:  33\n",
            "Loss:  tf.Tensor(0.76565695, shape=(), dtype=float32)\n",
            "Epoch:  34\n",
            "Loss:  tf.Tensor(0.71873087, shape=(), dtype=float32)\n",
            "Epoch:  35\n",
            "Loss:  tf.Tensor(0.67496985, shape=(), dtype=float32)\n",
            "Epoch:  36\n",
            "Loss:  tf.Tensor(0.6341285, shape=(), dtype=float32)\n",
            "Epoch:  37\n",
            "Loss:  tf.Tensor(0.59598756, shape=(), dtype=float32)\n",
            "Epoch:  38\n",
            "Loss:  tf.Tensor(0.5603483, shape=(), dtype=float32)\n",
            "Epoch:  39\n",
            "Loss:  tf.Tensor(0.52702934, shape=(), dtype=float32)\n",
            "Epoch:  40\n",
            "Loss:  tf.Tensor(0.49586546, shape=(), dtype=float32)\n",
            "Epoch:  41\n",
            "Loss:  tf.Tensor(0.46670473, shape=(), dtype=float32)\n",
            "Epoch:  42\n",
            "Loss:  tf.Tensor(0.43940774, shape=(), dtype=float32)\n",
            "Epoch:  43\n",
            "Loss:  tf.Tensor(0.41384563, shape=(), dtype=float32)\n",
            "Epoch:  44\n",
            "Loss:  tf.Tensor(0.3898993, shape=(), dtype=float32)\n",
            "Epoch:  45\n",
            "Loss:  tf.Tensor(0.36745942, shape=(), dtype=float32)\n",
            "Epoch:  46\n",
            "Loss:  tf.Tensor(0.3464238, shape=(), dtype=float32)\n",
            "Epoch:  47\n",
            "Loss:  tf.Tensor(0.32669845, shape=(), dtype=float32)\n",
            "Epoch:  48\n",
            "Loss:  tf.Tensor(0.30819565, shape=(), dtype=float32)\n",
            "Epoch:  49\n",
            "Loss:  tf.Tensor(0.2908342, shape=(), dtype=float32)\n"
          ],
          "name": "stdout"
        }
      ]
    }
  ]
}