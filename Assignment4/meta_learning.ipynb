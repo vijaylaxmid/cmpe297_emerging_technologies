{
  "nbformat": 4,
  "nbformat_minor": 0,
  "metadata": {
    "colab": {
      "name": "meta_learning.ipynb",
      "provenance": []
    },
    "kernelspec": {
      "name": "python3",
      "display_name": "Python 3"
    },
    "accelerator": "GPU"
  },
  "cells": [
    {
      "cell_type": "markdown",
      "metadata": {
        "id": "TF9oHocqFhdg"
      },
      "source": [
        "Import the necessary libraries"
      ]
    },
    {
      "cell_type": "code",
      "metadata": {
        "id": "czYLb45jFkGF",
        "outputId": "d75f37e9-0ce8-495c-9d1d-dc26a51cdd7b",
        "colab": {
          "base_uri": "https://localhost:8080/",
          "height": 204
        }
      },
      "source": [
        "# For a specific version:\n",
        "!pip install tensorflow==1.2"
      ],
      "execution_count": null,
      "outputs": [
        {
          "output_type": "stream",
          "text": [
            "Requirement already satisfied: tensorflow==1.2 in /usr/local/lib/python3.6/dist-packages (1.2.0)\n",
            "Requirement already satisfied: bleach==1.5.0 in /usr/local/lib/python3.6/dist-packages (from tensorflow==1.2) (1.5.0)\n",
            "Requirement already satisfied: six>=1.10.0 in /usr/local/lib/python3.6/dist-packages (from tensorflow==1.2) (1.15.0)\n",
            "Requirement already satisfied: wheel>=0.26 in /usr/local/lib/python3.6/dist-packages (from tensorflow==1.2) (0.35.1)\n",
            "Requirement already satisfied: numpy>=1.11.0 in /usr/local/lib/python3.6/dist-packages (from tensorflow==1.2) (1.18.5)\n",
            "Requirement already satisfied: protobuf>=3.2.0 in /usr/local/lib/python3.6/dist-packages (from tensorflow==1.2) (3.12.4)\n",
            "Requirement already satisfied: backports.weakref==1.0rc1 in /usr/local/lib/python3.6/dist-packages (from tensorflow==1.2) (1.0rc1)\n",
            "Requirement already satisfied: werkzeug>=0.11.10 in /usr/local/lib/python3.6/dist-packages (from tensorflow==1.2) (1.0.1)\n",
            "Requirement already satisfied: markdown==2.2.0 in /usr/local/lib/python3.6/dist-packages (from tensorflow==1.2) (2.2.0)\n",
            "Requirement already satisfied: html5lib==0.9999999 in /usr/local/lib/python3.6/dist-packages (from tensorflow==1.2) (0.9999999)\n",
            "Requirement already satisfied: setuptools in /usr/local/lib/python3.6/dist-packages (from protobuf>=3.2.0->tensorflow==1.2) (50.3.0)\n"
          ],
          "name": "stdout"
        }
      ]
    },
    {
      "cell_type": "code",
      "metadata": {
        "id": "UUaruQUfXu6d",
        "outputId": "b6e72d77-e875-46ac-f1d5-aa751170402f",
        "colab": {
          "base_uri": "https://localhost:8080/",
          "height": 187
        }
      },
      "source": [
        "# To determine which version you're using:\n",
        "!pip show tensorflow"
      ],
      "execution_count": null,
      "outputs": [
        {
          "output_type": "stream",
          "text": [
            "Name: tensorflow\n",
            "Version: 1.2.0\n",
            "Summary: TensorFlow helps the tensors flow\n",
            "Home-page: http://tensorflow.org/\n",
            "Author: Google Inc.\n",
            "Author-email: opensource@google.com\n",
            "License: Apache 2.0\n",
            "Location: /usr/local/lib/python3.6/dist-packages\n",
            "Requires: markdown, six, werkzeug, backports.weakref, numpy, wheel, bleach, html5lib, protobuf\n",
            "Required-by: fancyimpute\n"
          ],
          "name": "stdout"
        }
      ]
    },
    {
      "cell_type": "code",
      "metadata": {
        "id": "cpSKkatVXjHm",
        "outputId": "0104829e-e215-4cf1-9a0a-c8262f8985ff",
        "colab": {
          "base_uri": "https://localhost:8080/",
          "height": 241
        }
      },
      "source": [
        "import os\n",
        "import glob\n",
        "from PIL import Image\n",
        "import numpy as np\n",
        "import tensorflow as tf\n",
        "#import tensorflow.compat.v1 as tf\n",
        "\n",
        "#tf.disable_v2_behavior()"
      ],
      "execution_count": null,
      "outputs": [
        {
          "output_type": "stream",
          "text": [
            "/usr/local/lib/python3.6/dist-packages/tensorflow/python/framework/dtypes.py:458: FutureWarning: Passing (type, 1) or '1type' as a synonym of type is deprecated; in a future version of numpy, it will be understood as (type, (1,)) / '(1,)type'.\n",
            "  _np_qint8 = np.dtype([(\"qint8\", np.int8, 1)])\n",
            "/usr/local/lib/python3.6/dist-packages/tensorflow/python/framework/dtypes.py:459: FutureWarning: Passing (type, 1) or '1type' as a synonym of type is deprecated; in a future version of numpy, it will be understood as (type, (1,)) / '(1,)type'.\n",
            "  _np_quint8 = np.dtype([(\"quint8\", np.uint8, 1)])\n",
            "/usr/local/lib/python3.6/dist-packages/tensorflow/python/framework/dtypes.py:460: FutureWarning: Passing (type, 1) or '1type' as a synonym of type is deprecated; in a future version of numpy, it will be understood as (type, (1,)) / '(1,)type'.\n",
            "  _np_qint16 = np.dtype([(\"qint16\", np.int16, 1)])\n",
            "/usr/local/lib/python3.6/dist-packages/tensorflow/python/framework/dtypes.py:461: FutureWarning: Passing (type, 1) or '1type' as a synonym of type is deprecated; in a future version of numpy, it will be understood as (type, (1,)) / '(1,)type'.\n",
            "  _np_quint16 = np.dtype([(\"quint16\", np.uint16, 1)])\n",
            "/usr/local/lib/python3.6/dist-packages/tensorflow/python/framework/dtypes.py:462: FutureWarning: Passing (type, 1) or '1type' as a synonym of type is deprecated; in a future version of numpy, it will be understood as (type, (1,)) / '(1,)type'.\n",
            "  _np_qint32 = np.dtype([(\"qint32\", np.int32, 1)])\n",
            "/usr/local/lib/python3.6/dist-packages/tensorflow/python/framework/dtypes.py:465: FutureWarning: Passing (type, 1) or '1type' as a synonym of type is deprecated; in a future version of numpy, it will be understood as (type, (1,)) / '(1,)type'.\n",
            "  np_resource = np.dtype([(\"resource\", np.ubyte, 1)])\n"
          ],
          "name": "stderr"
        }
      ]
    },
    {
      "cell_type": "markdown",
      "metadata": {
        "id": "Vl3ecm_Fh-p4"
      },
      "source": [
        "Explore various characters in the dataset"
      ]
    },
    {
      "cell_type": "code",
      "metadata": {
        "id": "z28OwZlZh_tg",
        "outputId": "fd357cc7-f7f4-4c70-c760-2387c9d841a3",
        "colab": {
          "base_uri": "https://localhost:8080/",
          "height": 34
        }
      },
      "source": [
        "from google.colab import drive\n",
        "drive.mount('/content/gdrive/', force_remount = True)"
      ],
      "execution_count": null,
      "outputs": [
        {
          "output_type": "stream",
          "text": [
            "Mounted at /content/gdrive/\n"
          ],
          "name": "stdout"
        }
      ]
    },
    {
      "cell_type": "code",
      "metadata": {
        "id": "Eo-fHSA7FpE0",
        "outputId": "01c73403-141c-45c0-b0e0-b8c9774a7c7e",
        "colab": {
          "base_uri": "https://localhost:8080/",
          "height": 122
        }
      },
      "source": [
        "Image.open('/content/gdrive/My Drive/Japanese_(katakana)/character13/0608_01.png')"
      ],
      "execution_count": null,
      "outputs": [
        {
          "output_type": "execute_result",
          "data": {
            "image/png": "[encoded data removed]",
            "text/plain": [
              "<PIL.PngImagePlugin.PngImageFile image mode=1 size=105x105 at 0x7F1512D15630>"
            ]
          },
          "metadata": {
            "tags": []
          },
          "execution_count": 5
        }
      ]
    },
    {
      "cell_type": "code",
      "metadata": {
        "id": "c_aBZbyooGJa",
        "outputId": "97ca5c88-3229-44c5-f3f0-7ce6dd6f7696",
        "colab": {
          "base_uri": "https://localhost:8080/",
          "height": 122
        }
      },
      "source": [
        "Image.open('/content/gdrive/My Drive/Japanese_(katakana)/character13/0608_13.png')"
      ],
      "execution_count": null,
      "outputs": [
        {
          "output_type": "execute_result",
          "data": {
            "image/png": "[encoded data removed]",
            "text/plain": [
              "<PIL.PngImagePlugin.PngImageFile image mode=1 size=105x105 at 0x7F150CA2E3C8>"
            ]
          },
          "metadata": {
            "tags": []
          },
          "execution_count": 6
        }
      ]
    },
    {
      "cell_type": "code",
      "metadata": {
        "id": "8S3AUIiEpiwi",
        "outputId": "a703922a-2a3b-442a-af9f-3793efc06646",
        "colab": {
          "base_uri": "https://localhost:8080/",
          "height": 122
        }
      },
      "source": [
        "Image.open('/content/gdrive/My Drive/Sanskrit/character13/0863_09.png')"
      ],
      "execution_count": null,
      "outputs": [
        {
          "output_type": "execute_result",
          "data": {
            "image/png": "[encoded data removed]",
            "text/plain": [
              "<PIL.PngImagePlugin.PngImageFile image mode=1 size=105x105 at 0x7F150CA2E4A8>"
            ]
          },
          "metadata": {
            "tags": []
          },
          "execution_count": 7
        }
      ]
    },
    {
      "cell_type": "code",
      "metadata": {
        "id": "jejWaP0bvAJg",
        "outputId": "b5325577-72e6-44e4-eacc-21b0d22d32c2",
        "colab": {
          "base_uri": "https://localhost:8080/",
          "height": 122
        }
      },
      "source": [
        "Image.open('/content/gdrive/My Drive/Sanskrit/character13/0863_13.png')"
      ],
      "execution_count": null,
      "outputs": [
        {
          "output_type": "execute_result",
          "data": {
            "image/png": "[encoded data removed]",
            "text/plain": [
              "<PIL.PngImagePlugin.PngImageFile image mode=1 size=105x105 at 0x7F150CA2E550>"
            ]
          },
          "metadata": {
            "tags": []
          },
          "execution_count": 8
        }
      ]
    },
    {
      "cell_type": "markdown",
      "metadata": {
        "id": "osPmH2DCL7b6"
      },
      "source": [
        "Converting image to array"
      ]
    },
    {
      "cell_type": "code",
      "metadata": {
        "id": "mD_w2RhLvFw5"
      },
      "source": [
        "image_name = '/content/gdrive/My Drive/Sanskrit/character13/0863_13.png'\n",
        "alphabet, character, rotation = 'Sanskrit/character13/rot000'.split('/')\n",
        "rotation = float(rotation[3:])"
      ],
      "execution_count": null,
      "outputs": []
    },
    {
      "cell_type": "code",
      "metadata": {
        "id": "w5x6SnXfvL9w",
        "outputId": "08b7df5c-9b7b-4f67-b70d-97449e4b903c",
        "colab": {
          "base_uri": "https://localhost:8080/",
          "height": 969
        }
      },
      "source": [
        "np.array(Image.open(image_name).rotate(rotation).resize((28, 28)), np.float32,copy=True)"
      ],
      "execution_count": null,
      "outputs": [
        {
          "output_type": "execute_result",
          "data": {
            "text/plain": [
              "array([[1., 1., 1., 1., 1., 1., 1., 1., 1., 1., 1., 1., 1., 1., 1., 1.,\n",
              "        1., 1., 1., 1., 1., 1., 1., 1., 1., 1., 1., 1.],\n",
              "       [1., 1., 1., 1., 1., 1., 1., 1., 1., 1., 1., 1., 1., 1., 1., 1.,\n",
              "        1., 1., 1., 1., 1., 1., 1., 1., 1., 1., 1., 1.],\n",
              "       [1., 1., 1., 1., 1., 1., 1., 1., 1., 1., 1., 1., 1., 1., 1., 1.,\n",
              "        1., 1., 1., 1., 1., 1., 1., 1., 1., 1., 1., 1.],\n",
              "       [1., 1., 1., 1., 1., 1., 1., 1., 1., 1., 1., 1., 1., 1., 1., 1.,\n",
              "        1., 1., 1., 1., 1., 1., 1., 1., 1., 1., 1., 1.],\n",
              "       [1., 1., 1., 1., 1., 1., 1., 1., 1., 1., 1., 1., 1., 1., 1., 1.,\n",
              "        1., 1., 1., 1., 1., 1., 1., 1., 1., 1., 1., 1.],\n",
              "       [1., 1., 1., 1., 1., 1., 1., 1., 1., 1., 1., 1., 1., 1., 1., 1.,\n",
              "        1., 1., 1., 1., 1., 1., 1., 1., 1., 1., 1., 1.],\n",
              "       [1., 1., 1., 1., 1., 1., 1., 1., 1., 1., 1., 1., 1., 1., 1., 1.,\n",
              "        1., 1., 1., 1., 1., 1., 1., 1., 1., 1., 1., 1.],\n",
              "       [1., 1., 1., 1., 1., 1., 0., 0., 0., 0., 0., 0., 0., 0., 0., 0.,\n",
              "        0., 0., 0., 0., 1., 1., 1., 1., 1., 1., 1., 1.],\n",
              "       [1., 1., 1., 1., 1., 0., 0., 0., 0., 0., 0., 0., 0., 0., 0., 0.,\n",
              "        0., 0., 0., 0., 0., 1., 1., 1., 1., 1., 1., 1.],\n",
              "       [1., 1., 1., 1., 1., 1., 1., 1., 1., 1., 1., 1., 1., 1., 0., 0.,\n",
              "        1., 1., 1., 1., 1., 1., 1., 1., 1., 1., 1., 1.],\n",
              "       [1., 1., 1., 1., 1., 1., 1., 1., 1., 1., 1., 0., 0., 0., 0., 0.,\n",
              "        1., 1., 1., 1., 1., 1., 1., 1., 1., 1., 1., 1.],\n",
              "       [1., 1., 1., 1., 1., 1., 1., 1., 1., 0., 0., 0., 1., 1., 1., 1.,\n",
              "        1., 1., 1., 1., 1., 1., 1., 1., 1., 1., 1., 1.],\n",
              "       [1., 1., 1., 1., 1., 1., 1., 0., 0., 0., 1., 1., 1., 1., 1., 1.,\n",
              "        1., 1., 1., 1., 1., 1., 1., 1., 1., 1., 1., 1.],\n",
              "       [1., 1., 1., 1., 1., 1., 1., 0., 1., 1., 1., 1., 1., 1., 1., 1.,\n",
              "        1., 1., 1., 1., 1., 1., 1., 1., 1., 1., 1., 1.],\n",
              "       [1., 1., 1., 1., 1., 1., 1., 0., 0., 0., 0., 0., 0., 0., 0., 1.,\n",
              "        1., 1., 1., 1., 1., 1., 1., 1., 1., 1., 1., 1.],\n",
              "       [1., 1., 1., 1., 1., 1., 1., 1., 1., 1., 1., 1., 1., 1., 1., 0.,\n",
              "        1., 1., 1., 1., 1., 1., 1., 1., 1., 1., 1., 1.],\n",
              "       [1., 1., 1., 1., 1., 1., 1., 1., 1., 1., 1., 1., 1., 1., 1., 0.,\n",
              "        0., 1., 1., 1., 1., 1., 1., 1., 1., 1., 1., 1.],\n",
              "       [1., 1., 1., 1., 1., 1., 1., 1., 1., 0., 1., 1., 1., 1., 1., 0.,\n",
              "        0., 1., 1., 1., 1., 1., 1., 1., 1., 1., 1., 1.],\n",
              "       [1., 1., 1., 1., 1., 1., 1., 1., 1., 0., 0., 1., 1., 1., 0., 0.,\n",
              "        1., 1., 1., 1., 1., 1., 1., 1., 1., 1., 1., 1.],\n",
              "       [1., 1., 1., 1., 1., 1., 1., 1., 1., 1., 0., 0., 0., 0., 1., 1.,\n",
              "        1., 1., 1., 1., 1., 1., 1., 1., 1., 1., 1., 1.],\n",
              "       [1., 1., 1., 1., 1., 1., 1., 1., 1., 1., 1., 1., 1., 1., 1., 1.,\n",
              "        1., 1., 1., 1., 1., 1., 1., 1., 1., 1., 1., 1.],\n",
              "       [1., 1., 1., 1., 1., 1., 1., 1., 1., 1., 1., 1., 1., 1., 1., 1.,\n",
              "        1., 1., 1., 1., 1., 1., 1., 1., 1., 1., 1., 1.],\n",
              "       [1., 1., 1., 1., 1., 1., 1., 1., 1., 1., 1., 1., 1., 1., 1., 1.,\n",
              "        1., 1., 1., 1., 1., 1., 1., 1., 1., 1., 1., 1.],\n",
              "       [1., 1., 1., 1., 1., 1., 1., 1., 1., 1., 1., 1., 1., 1., 1., 1.,\n",
              "        1., 1., 1., 1., 1., 1., 1., 1., 1., 1., 1., 1.],\n",
              "       [1., 1., 1., 1., 1., 1., 1., 1., 1., 1., 1., 1., 1., 1., 1., 1.,\n",
              "        1., 1., 1., 1., 1., 1., 1., 1., 1., 1., 1., 1.],\n",
              "       [1., 1., 1., 1., 1., 1., 1., 1., 1., 1., 1., 1., 1., 1., 1., 1.,\n",
              "        1., 1., 1., 1., 1., 1., 1., 1., 1., 1., 1., 1.],\n",
              "       [1., 1., 1., 1., 1., 1., 1., 1., 1., 1., 1., 1., 1., 1., 1., 1.,\n",
              "        1., 1., 1., 1., 1., 1., 1., 1., 1., 1., 1., 1.],\n",
              "       [1., 1., 1., 1., 1., 1., 1., 1., 1., 1., 1., 1., 1., 1., 1., 1.,\n",
              "        1., 1., 1., 1., 1., 1., 1., 1., 1., 1., 1., 1.]], dtype=float32)"
            ]
          },
          "metadata": {
            "tags": []
          },
          "execution_count": 10
        }
      ]
    },
    {
      "cell_type": "markdown",
      "metadata": {
        "id": "1qn6XhUTMJvo"
      },
      "source": [
        "Load the dataset"
      ]
    },
    {
      "cell_type": "code",
      "metadata": {
        "id": "cfcjcLUsvgV1"
      },
      "source": [
        "\n",
        "root_dir = '/content/gdrive/My Drive/data'"
      ],
      "execution_count": null,
      "outputs": []
    },
    {
      "cell_type": "code",
      "metadata": {
        "id": "Pcymi8SXvi65"
      },
      "source": [
        "train_split_path = os.path.join(root_dir, 'splits', 'train.txt')\n",
        "\n",
        "with open(train_split_path, 'r') as train_split:\n",
        "    train_classes = [line.rstrip() for line in train_split.readlines()]"
      ],
      "execution_count": null,
      "outputs": []
    },
    {
      "cell_type": "code",
      "metadata": {
        "id": "sYDdAuAUxRJ3"
      },
      "source": [
        "#number of classes\n",
        "no_of_classes = len(train_classes)"
      ],
      "execution_count": null,
      "outputs": []
    },
    {
      "cell_type": "markdown",
      "metadata": {
        "id": "_1AJr59AMLe-"
      },
      "source": [
        "Set number of examples to 20"
      ]
    },
    {
      "cell_type": "code",
      "metadata": {
        "id": "TYuO1LuMxUSu"
      },
      "source": [
        "#number of examples\n",
        "num_examples = 20\n",
        "\n",
        "#image width\n",
        "img_width = 28\n",
        "\n",
        "#image height\n",
        "img_height = 28\n",
        "channels = 1"
      ],
      "execution_count": null,
      "outputs": []
    },
    {
      "cell_type": "markdown",
      "metadata": {
        "id": "YYLJiKBBMWE1"
      },
      "source": [
        "Initialize the training dataset with a shape as a number of classes, number of examples, image height and image width:"
      ]
    },
    {
      "cell_type": "code",
      "metadata": {
        "id": "3CDJk89rxW4_"
      },
      "source": [
        "train_dataset = np.zeros([no_of_classes, num_examples, img_height, img_width], dtype=np.float32)"
      ],
      "execution_count": null,
      "outputs": []
    },
    {
      "cell_type": "markdown",
      "metadata": {
        "id": "NwzYz1_uMd6t"
      },
      "source": [
        "Store images in train_dataset array"
      ]
    },
    {
      "cell_type": "code",
      "metadata": {
        "id": "E8XDNfFjxZoY"
      },
      "source": [
        "for label, name in enumerate(train_classes):\n",
        "    alphabet, character, rotation = name.split('/')\n",
        "    rotation = float(rotation[3:])\n",
        "    img_dir = os.path.join(root_dir, 'data', alphabet, character)\n",
        "    img_files = sorted(glob.glob(os.path.join(img_dir, '*.png')))\n",
        "  \n",
        "    \n",
        "    for index, img_file in enumerate(img_files):\n",
        "        values = 1. - np.array(Image.open(img_file).rotate(rotation).resize((img_width, img_height)), np.float32, copy=False)\n",
        "        train_dataset[label, index] = values"
      ],
      "execution_count": null,
      "outputs": []
    },
    {
      "cell_type": "code",
      "metadata": {
        "id": "Cf5oAbS0xb5H",
        "outputId": "7fd4c42e-45b6-4d70-8c89-9da8883c29f7",
        "colab": {
          "base_uri": "https://localhost:8080/",
          "height": 34
        }
      },
      "source": [
        "train_dataset.shape"
      ],
      "execution_count": null,
      "outputs": [
        {
          "output_type": "execute_result",
          "data": {
            "text/plain": [
              "(4112, 20, 28, 28)"
            ]
          },
          "metadata": {
            "tags": []
          },
          "execution_count": 17
        }
      ]
    },
    {
      "cell_type": "markdown",
      "metadata": {
        "id": "oBtwmaTWMomN"
      },
      "source": [
        "Create embeddings for data"
      ]
    },
    {
      "cell_type": "code",
      "metadata": {
        "id": "kFhVXYy6xedo"
      },
      "source": [
        "def convolution_block(inputs, out_channels, name='conv'):\n",
        "\n",
        "    conv = tf.layers.conv2d(inputs, out_channels, kernel_size=3, padding='SAME')\n",
        "    conv = tf.contrib.layers.batch_norm(conv, updates_collections=None, decay=0.99, scale=True, center=True)\n",
        "    conv = tf.nn.relu(conv)\n",
        "    conv = tf.contrib.layers.max_pool2d(conv, 2)\n",
        "    \n",
        "    return conv"
      ],
      "execution_count": null,
      "outputs": []
    },
    {
      "cell_type": "code",
      "metadata": {
        "id": "Q8mBj9rJxhDS"
      },
      "source": [
        "def get_embeddings(support_set, h_dim, z_dim, reuse=False):\n",
        "\n",
        "        net = convolution_block(support_set, h_dim)\n",
        "        net = convolution_block(net, h_dim)\n",
        "        net = convolution_block(net, h_dim) \n",
        "        net = convolution_block(net, z_dim) \n",
        "        net = tf.contrib.layers.flatten(net)\n",
        "        \n",
        "        return net"
      ],
      "execution_count": null,
      "outputs": []
    },
    {
      "cell_type": "code",
      "metadata": {
        "id": "16TnOQwqxjlm"
      },
      "source": [
        "#number of classes\n",
        "num_way = 60  \n",
        "\n",
        "#number of examples per class for support set\n",
        "num_shot = 5  \n",
        "\n",
        "#number of query points\n",
        "num_query = 5 \n",
        "\n",
        "#number of examples\n",
        "num_examples = 20\n",
        "\n",
        "h_dim = 64\n",
        "\n",
        "z_dim = 64"
      ],
      "execution_count": null,
      "outputs": []
    },
    {
      "cell_type": "markdown",
      "metadata": {
        "id": "tddH0ytYMwUr"
      },
      "source": [
        "Placeholders for support set and query set:"
      ]
    },
    {
      "cell_type": "code",
      "metadata": {
        "id": "Pjr_Yqfsxmdf"
      },
      "source": [
        "support_set = tf.placeholder(tf.float32, [None, None, img_height, img_width, channels])\n",
        "query_set = tf.placeholder(tf.float32, [None, None, img_height, img_width, channels])"
      ],
      "execution_count": null,
      "outputs": []
    },
    {
      "cell_type": "code",
      "metadata": {
        "id": "SZK1yImUyHaS"
      },
      "source": [
        "support_set_shape = tf.shape(support_set)\n",
        "query_set_shape = tf.shape(query_set)"
      ],
      "execution_count": null,
      "outputs": []
    },
    {
      "cell_type": "code",
      "metadata": {
        "id": "LLDbzp5VyKGp"
      },
      "source": [
        "num_classes, num_support_points = support_set_shape[0], support_set_shape[1]"
      ],
      "execution_count": null,
      "outputs": []
    },
    {
      "cell_type": "code",
      "metadata": {
        "id": "8VyJWdzvyMdI"
      },
      "source": [
        "num_query_points = query_set_shape[1]"
      ],
      "execution_count": null,
      "outputs": []
    },
    {
      "cell_type": "markdown",
      "metadata": {
        "id": "TaFlshP3M7js"
      },
      "source": [
        "Placeholder for the label"
      ]
    },
    {
      "cell_type": "code",
      "metadata": {
        "id": "r3tFE5kPyPU8"
      },
      "source": [
        "y = tf.placeholder(tf.int64, [None, None])\n",
        "\n",
        "#convert the label to one hot\n",
        "y_one_hot = tf.one_hot(y, depth=num_classes)"
      ],
      "execution_count": null,
      "outputs": []
    },
    {
      "cell_type": "markdown",
      "metadata": {
        "id": "ZHKWZk76NBdG"
      },
      "source": [
        "Generate the embeddings forthe support set using the embedding function"
      ]
    },
    {
      "cell_type": "code",
      "metadata": {
        "id": "pTY1xg7Tyq6w"
      },
      "source": [
        "\n",
        "support_set_embeddings = get_embeddings(tf.reshape(support_set, [num_classes * num_support_points, img_height, img_width, channels]), h_dim, z_dim)"
      ],
      "execution_count": null,
      "outputs": []
    },
    {
      "cell_type": "code",
      "metadata": {
        "id": "CP8am0NRTTqU"
      },
      "source": [
        "embedding_dimension = tf.shape(support_set_embeddings)[-1]\n",
        "\n",
        "class_prototype = tf.reduce_mean(tf.reshape(support_set_embeddings, [num_classes, num_support_points, embedding_dimension]), axis=1)"
      ],
      "execution_count": null,
      "outputs": []
    },
    {
      "cell_type": "code",
      "metadata": {
        "id": "5DThjXxZTkxm"
      },
      "source": [
        "query_set_embeddings = get_embeddings(tf.reshape(query_set, [num_classes * num_query_points, img_height, img_width, channels]), h_dim, z_dim, reuse=True)"
      ],
      "execution_count": null,
      "outputs": []
    },
    {
      "cell_type": "markdown",
      "metadata": {
        "id": "OS0acE05NK3b"
      },
      "source": [
        "Distance function to calculate distance between the class prototypes and query set embeddings:"
      ]
    },
    {
      "cell_type": "code",
      "metadata": {
        "id": "DKnvZOaBToLe"
      },
      "source": [
        "def euclidean_distance(a, b):\n",
        "\n",
        "    N, D = tf.shape(a)[0], tf.shape(a)[1]\n",
        "    M = tf.shape(b)[0]\n",
        "    a = tf.tile(tf.expand_dims(a, axis=1), (1, M, 1))\n",
        "    b = tf.tile(tf.expand_dims(b, axis=0), (N, 1, 1))\n",
        "    return tf.reduce_mean(tf.square(a - b), axis=2)"
      ],
      "execution_count": null,
      "outputs": []
    },
    {
      "cell_type": "code",
      "metadata": {
        "id": "peicjQoATrFR"
      },
      "source": [
        "distance = euclidean_distance(class_prototype,query_set_embeddings)"
      ],
      "execution_count": null,
      "outputs": []
    },
    {
      "cell_type": "markdown",
      "metadata": {
        "id": "hWI7gfvUNVH1"
      },
      "source": [
        "Calculate probability for each class as a softmax to the distance:"
      ]
    },
    {
      "cell_type": "code",
      "metadata": {
        "id": "glyGf2WnTtmM"
      },
      "source": [
        "predicted_probability = tf.reshape(tf.nn.log_softmax(-distance), [num_classes, num_query_points, -1])"
      ],
      "execution_count": null,
      "outputs": []
    },
    {
      "cell_type": "markdown",
      "metadata": {
        "id": "s59Q9_qaNYPF"
      },
      "source": [
        "Calculate loss"
      ]
    },
    {
      "cell_type": "code",
      "metadata": {
        "id": "sE0ribOETwhe"
      },
      "source": [
        "loss = -tf.reduce_mean(tf.reshape(tf.reduce_sum(tf.multiply(y_one_hot, predicted_probability), axis=-1), [-1]))"
      ],
      "execution_count": null,
      "outputs": []
    },
    {
      "cell_type": "markdown",
      "metadata": {
        "id": "1UK5fPjiNZ0E"
      },
      "source": [
        "Calculate accuracy"
      ]
    },
    {
      "cell_type": "code",
      "metadata": {
        "id": "qVGYieUjTzDQ"
      },
      "source": [
        "accuracy = tf.reduce_mean(tf.to_float(tf.equal(tf.argmax(predicted_probability, axis=-1), y)))"
      ],
      "execution_count": null,
      "outputs": []
    },
    {
      "cell_type": "markdown",
      "metadata": {
        "id": "yoCieTVtNbz3"
      },
      "source": [
        "Using Adam optimizer to minimize the loss"
      ]
    },
    {
      "cell_type": "code",
      "metadata": {
        "id": "SiZY2RvpTzGO"
      },
      "source": [
        "train = tf.train.AdamOptimizer().minimize(loss)"
      ],
      "execution_count": null,
      "outputs": []
    },
    {
      "cell_type": "markdown",
      "metadata": {
        "id": "wE4AUeQTNkKv"
      },
      "source": [
        "Model training"
      ]
    },
    {
      "cell_type": "code",
      "metadata": {
        "id": "UPjYbOqETzCf"
      },
      "source": [
        "sess = tf.InteractiveSession()\n",
        "init = tf.global_variables_initializer()\n",
        "sess.run(init)"
      ],
      "execution_count": null,
      "outputs": []
    },
    {
      "cell_type": "code",
      "metadata": {
        "id": "KRFVu7yxT5xs"
      },
      "source": [
        "num_epochs = 20\n",
        "num_episodes = 100"
      ],
      "execution_count": null,
      "outputs": []
    },
    {
      "cell_type": "code",
      "metadata": {
        "id": "EvW-Z3dhT_-4",
        "outputId": "d30b101c-05c4-44af-ddf7-27c41678ba76",
        "colab": {
          "base_uri": "https://localhost:8080/",
          "height": 1000
        }
      },
      "source": [
        "for epoch in range(num_epochs):\n",
        "    \n",
        "    for episode in range(num_episodes):\n",
        "        \n",
        "        # select 60 classes\n",
        "        episodic_classes = np.random.permutation(no_of_classes)[:num_way]\n",
        "        \n",
        "        support = np.zeros([num_way, num_shot, img_height, img_width], dtype=np.float32)\n",
        "        \n",
        "        query = np.zeros([num_way, num_query, img_height, img_width], dtype=np.float32)\n",
        "        \n",
        "        \n",
        "        for index, class_ in enumerate(episodic_classes):\n",
        "            selected = np.random.permutation(num_examples)[:num_shot + num_query]\n",
        "            support[index] = train_dataset[class_, selected[:num_shot]]\n",
        "            \n",
        "            # 5 querypoints per classs\n",
        "            query[index] = train_dataset[class_, selected[num_shot:]]\n",
        "            \n",
        "        support = np.expand_dims(support, axis=-1)\n",
        "        query = np.expand_dims(query, axis=-1)\n",
        "        labels = np.tile(np.arange(num_way)[:, np.newaxis], (1, num_query)).astype(np.uint8)\n",
        "        _, loss_, accuracy_ = sess.run([train, loss, accuracy], feed_dict={support_set: support, query_set: query, y:labels})\n",
        "        \n",
        "        if (episode+1) % 10 == 0:\n",
        "            print('Epoch {} : Episode {} : Loss: {}, Accuracy: {}'.format(epoch+1, episode+1, loss_, accuracy_))"
      ],
      "execution_count": null,
      "outputs": [
        {
          "output_type": "stream",
          "text": [
            "Epoch 1 : Episode 10 : Loss: 5.703787326812744, Accuracy: 0.01666666753590107\n",
            "Epoch 1 : Episode 20 : Loss: 5.703787326812744, Accuracy: 0.01666666753590107\n",
            "Epoch 1 : Episode 30 : Loss: 5.703787326812744, Accuracy: 0.01666666753590107\n",
            "Epoch 1 : Episode 40 : Loss: 5.703787326812744, Accuracy: 0.01666666753590107\n",
            "Epoch 1 : Episode 50 : Loss: 5.703787326812744, Accuracy: 0.01666666753590107\n",
            "Epoch 1 : Episode 60 : Loss: 5.703787326812744, Accuracy: 0.01666666753590107\n",
            "Epoch 1 : Episode 70 : Loss: 5.703787326812744, Accuracy: 0.01666666753590107\n",
            "Epoch 1 : Episode 80 : Loss: 5.703787326812744, Accuracy: 0.01666666753590107\n",
            "Epoch 1 : Episode 90 : Loss: 5.703787326812744, Accuracy: 0.01666666753590107\n",
            "Epoch 1 : Episode 100 : Loss: 5.703787326812744, Accuracy: 0.01666666753590107\n",
            "Epoch 2 : Episode 10 : Loss: 5.703787326812744, Accuracy: 0.01666666753590107\n",
            "Epoch 2 : Episode 20 : Loss: 5.703787326812744, Accuracy: 0.01666666753590107\n",
            "Epoch 2 : Episode 30 : Loss: 5.703787326812744, Accuracy: 0.01666666753590107\n",
            "Epoch 2 : Episode 40 : Loss: 5.703787326812744, Accuracy: 0.01666666753590107\n",
            "Epoch 2 : Episode 50 : Loss: 5.703787326812744, Accuracy: 0.01666666753590107\n",
            "Epoch 2 : Episode 60 : Loss: 5.703787326812744, Accuracy: 0.01666666753590107\n",
            "Epoch 2 : Episode 70 : Loss: 5.703787326812744, Accuracy: 0.01666666753590107\n",
            "Epoch 2 : Episode 80 : Loss: 5.703787326812744, Accuracy: 0.01666666753590107\n",
            "Epoch 2 : Episode 90 : Loss: 5.703787326812744, Accuracy: 0.01666666753590107\n",
            "Epoch 2 : Episode 100 : Loss: 5.703787326812744, Accuracy: 0.01666666753590107\n",
            "Epoch 3 : Episode 10 : Loss: 5.703787326812744, Accuracy: 0.01666666753590107\n",
            "Epoch 3 : Episode 20 : Loss: 5.703787326812744, Accuracy: 0.01666666753590107\n",
            "Epoch 3 : Episode 30 : Loss: 5.703787326812744, Accuracy: 0.01666666753590107\n",
            "Epoch 3 : Episode 40 : Loss: 5.703787326812744, Accuracy: 0.01666666753590107\n",
            "Epoch 3 : Episode 50 : Loss: 5.703787326812744, Accuracy: 0.01666666753590107\n",
            "Epoch 3 : Episode 60 : Loss: 5.703787326812744, Accuracy: 0.01666666753590107\n",
            "Epoch 3 : Episode 70 : Loss: 5.703787326812744, Accuracy: 0.01666666753590107\n",
            "Epoch 3 : Episode 80 : Loss: 5.703787326812744, Accuracy: 0.01666666753590107\n",
            "Epoch 3 : Episode 90 : Loss: 5.703787326812744, Accuracy: 0.01666666753590107\n",
            "Epoch 3 : Episode 100 : Loss: 5.703787326812744, Accuracy: 0.01666666753590107\n",
            "Epoch 4 : Episode 10 : Loss: 5.703787326812744, Accuracy: 0.01666666753590107\n",
            "Epoch 4 : Episode 20 : Loss: 5.703787326812744, Accuracy: 0.01666666753590107\n",
            "Epoch 4 : Episode 30 : Loss: 5.703787326812744, Accuracy: 0.01666666753590107\n",
            "Epoch 4 : Episode 40 : Loss: 5.703787326812744, Accuracy: 0.01666666753590107\n",
            "Epoch 4 : Episode 50 : Loss: 5.703787326812744, Accuracy: 0.01666666753590107\n",
            "Epoch 4 : Episode 60 : Loss: 5.703787326812744, Accuracy: 0.01666666753590107\n",
            "Epoch 4 : Episode 70 : Loss: 5.703787326812744, Accuracy: 0.01666666753590107\n",
            "Epoch 4 : Episode 80 : Loss: 5.703787326812744, Accuracy: 0.01666666753590107\n",
            "Epoch 4 : Episode 90 : Loss: 5.703787326812744, Accuracy: 0.01666666753590107\n",
            "Epoch 4 : Episode 100 : Loss: 5.703787326812744, Accuracy: 0.01666666753590107\n",
            "Epoch 5 : Episode 10 : Loss: 5.703787326812744, Accuracy: 0.01666666753590107\n",
            "Epoch 5 : Episode 20 : Loss: 5.703787326812744, Accuracy: 0.01666666753590107\n",
            "Epoch 5 : Episode 30 : Loss: 5.703787326812744, Accuracy: 0.01666666753590107\n",
            "Epoch 5 : Episode 40 : Loss: 5.703787326812744, Accuracy: 0.01666666753590107\n",
            "Epoch 5 : Episode 50 : Loss: 5.703787326812744, Accuracy: 0.01666666753590107\n",
            "Epoch 5 : Episode 60 : Loss: 5.703787326812744, Accuracy: 0.01666666753590107\n",
            "Epoch 5 : Episode 70 : Loss: 5.703787326812744, Accuracy: 0.01666666753590107\n",
            "Epoch 5 : Episode 80 : Loss: 5.703787326812744, Accuracy: 0.01666666753590107\n",
            "Epoch 5 : Episode 90 : Loss: 5.703787326812744, Accuracy: 0.01666666753590107\n",
            "Epoch 5 : Episode 100 : Loss: 5.703787326812744, Accuracy: 0.01666666753590107\n",
            "Epoch 6 : Episode 10 : Loss: 5.703787326812744, Accuracy: 0.01666666753590107\n",
            "Epoch 6 : Episode 20 : Loss: 5.703787326812744, Accuracy: 0.01666666753590107\n",
            "Epoch 6 : Episode 30 : Loss: 5.703787326812744, Accuracy: 0.01666666753590107\n",
            "Epoch 6 : Episode 40 : Loss: 5.703787326812744, Accuracy: 0.01666666753590107\n",
            "Epoch 6 : Episode 50 : Loss: 5.703787326812744, Accuracy: 0.01666666753590107\n",
            "Epoch 6 : Episode 60 : Loss: 5.703787326812744, Accuracy: 0.01666666753590107\n",
            "Epoch 6 : Episode 70 : Loss: 5.703787326812744, Accuracy: 0.01666666753590107\n",
            "Epoch 6 : Episode 80 : Loss: 5.703787326812744, Accuracy: 0.01666666753590107\n",
            "Epoch 6 : Episode 90 : Loss: 5.703787326812744, Accuracy: 0.01666666753590107\n",
            "Epoch 6 : Episode 100 : Loss: 5.703787326812744, Accuracy: 0.01666666753590107\n",
            "Epoch 7 : Episode 10 : Loss: 5.703787326812744, Accuracy: 0.01666666753590107\n",
            "Epoch 7 : Episode 20 : Loss: 5.703787326812744, Accuracy: 0.01666666753590107\n",
            "Epoch 7 : Episode 30 : Loss: 5.703787326812744, Accuracy: 0.01666666753590107\n",
            "Epoch 7 : Episode 40 : Loss: 5.703787326812744, Accuracy: 0.01666666753590107\n",
            "Epoch 7 : Episode 50 : Loss: 5.703787326812744, Accuracy: 0.01666666753590107\n",
            "Epoch 7 : Episode 60 : Loss: 5.703787326812744, Accuracy: 0.01666666753590107\n",
            "Epoch 7 : Episode 70 : Loss: 5.703787326812744, Accuracy: 0.01666666753590107\n",
            "Epoch 7 : Episode 80 : Loss: 5.703787326812744, Accuracy: 0.01666666753590107\n",
            "Epoch 7 : Episode 90 : Loss: 5.703787326812744, Accuracy: 0.01666666753590107\n",
            "Epoch 7 : Episode 100 : Loss: 5.703787326812744, Accuracy: 0.01666666753590107\n",
            "Epoch 8 : Episode 10 : Loss: 5.703787326812744, Accuracy: 0.01666666753590107\n",
            "Epoch 8 : Episode 20 : Loss: 5.703787326812744, Accuracy: 0.01666666753590107\n",
            "Epoch 8 : Episode 30 : Loss: 5.703787326812744, Accuracy: 0.01666666753590107\n",
            "Epoch 8 : Episode 40 : Loss: 5.703787326812744, Accuracy: 0.01666666753590107\n",
            "Epoch 8 : Episode 50 : Loss: 5.703787326812744, Accuracy: 0.01666666753590107\n",
            "Epoch 8 : Episode 60 : Loss: 5.703787326812744, Accuracy: 0.01666666753590107\n",
            "Epoch 8 : Episode 70 : Loss: 5.703787326812744, Accuracy: 0.01666666753590107\n",
            "Epoch 8 : Episode 80 : Loss: 5.703787326812744, Accuracy: 0.01666666753590107\n",
            "Epoch 8 : Episode 90 : Loss: 5.703787326812744, Accuracy: 0.01666666753590107\n",
            "Epoch 8 : Episode 100 : Loss: 5.703787326812744, Accuracy: 0.01666666753590107\n",
            "Epoch 9 : Episode 10 : Loss: 5.703787326812744, Accuracy: 0.01666666753590107\n",
            "Epoch 9 : Episode 20 : Loss: 5.703787326812744, Accuracy: 0.01666666753590107\n",
            "Epoch 9 : Episode 30 : Loss: 5.703787326812744, Accuracy: 0.01666666753590107\n",
            "Epoch 9 : Episode 40 : Loss: 5.703787326812744, Accuracy: 0.01666666753590107\n",
            "Epoch 9 : Episode 50 : Loss: 5.703787326812744, Accuracy: 0.01666666753590107\n",
            "Epoch 9 : Episode 60 : Loss: 5.703787326812744, Accuracy: 0.01666666753590107\n",
            "Epoch 9 : Episode 70 : Loss: 5.703787326812744, Accuracy: 0.01666666753590107\n",
            "Epoch 9 : Episode 80 : Loss: 5.703787326812744, Accuracy: 0.01666666753590107\n",
            "Epoch 9 : Episode 90 : Loss: 5.703787326812744, Accuracy: 0.01666666753590107\n",
            "Epoch 9 : Episode 100 : Loss: 5.703787326812744, Accuracy: 0.01666666753590107\n",
            "Epoch 10 : Episode 10 : Loss: 5.703787326812744, Accuracy: 0.01666666753590107\n",
            "Epoch 10 : Episode 20 : Loss: 5.703787326812744, Accuracy: 0.01666666753590107\n",
            "Epoch 10 : Episode 30 : Loss: 5.703787326812744, Accuracy: 0.01666666753590107\n",
            "Epoch 10 : Episode 40 : Loss: 5.703787326812744, Accuracy: 0.01666666753590107\n",
            "Epoch 10 : Episode 50 : Loss: 5.703787326812744, Accuracy: 0.01666666753590107\n",
            "Epoch 10 : Episode 60 : Loss: 5.703787326812744, Accuracy: 0.01666666753590107\n",
            "Epoch 10 : Episode 70 : Loss: 5.703787326812744, Accuracy: 0.01666666753590107\n",
            "Epoch 10 : Episode 80 : Loss: 5.703787326812744, Accuracy: 0.01666666753590107\n",
            "Epoch 10 : Episode 90 : Loss: 5.703787326812744, Accuracy: 0.01666666753590107\n",
            "Epoch 10 : Episode 100 : Loss: 5.703787326812744, Accuracy: 0.01666666753590107\n",
            "Epoch 11 : Episode 10 : Loss: 5.703787326812744, Accuracy: 0.01666666753590107\n",
            "Epoch 11 : Episode 20 : Loss: 5.703787326812744, Accuracy: 0.01666666753590107\n",
            "Epoch 11 : Episode 30 : Loss: 5.703787326812744, Accuracy: 0.01666666753590107\n",
            "Epoch 11 : Episode 40 : Loss: 5.703787326812744, Accuracy: 0.01666666753590107\n",
            "Epoch 11 : Episode 50 : Loss: 5.703787326812744, Accuracy: 0.01666666753590107\n",
            "Epoch 11 : Episode 60 : Loss: 5.703787326812744, Accuracy: 0.01666666753590107\n",
            "Epoch 11 : Episode 70 : Loss: 5.703787326812744, Accuracy: 0.01666666753590107\n",
            "Epoch 11 : Episode 80 : Loss: 5.703787326812744, Accuracy: 0.01666666753590107\n",
            "Epoch 11 : Episode 90 : Loss: 5.703787326812744, Accuracy: 0.01666666753590107\n",
            "Epoch 11 : Episode 100 : Loss: 5.703787326812744, Accuracy: 0.01666666753590107\n",
            "Epoch 12 : Episode 10 : Loss: 5.703787326812744, Accuracy: 0.01666666753590107\n",
            "Epoch 12 : Episode 20 : Loss: 5.703787326812744, Accuracy: 0.01666666753590107\n",
            "Epoch 12 : Episode 30 : Loss: 5.703787326812744, Accuracy: 0.01666666753590107\n",
            "Epoch 12 : Episode 40 : Loss: 5.703787326812744, Accuracy: 0.01666666753590107\n",
            "Epoch 12 : Episode 50 : Loss: 5.703787326812744, Accuracy: 0.01666666753590107\n",
            "Epoch 12 : Episode 60 : Loss: 5.703787326812744, Accuracy: 0.01666666753590107\n",
            "Epoch 12 : Episode 70 : Loss: 5.703787326812744, Accuracy: 0.01666666753590107\n",
            "Epoch 12 : Episode 80 : Loss: 5.703787326812744, Accuracy: 0.01666666753590107\n",
            "Epoch 12 : Episode 90 : Loss: 5.703787326812744, Accuracy: 0.01666666753590107\n",
            "Epoch 12 : Episode 100 : Loss: 5.703787326812744, Accuracy: 0.01666666753590107\n",
            "Epoch 13 : Episode 10 : Loss: 5.703787326812744, Accuracy: 0.01666666753590107\n",
            "Epoch 13 : Episode 20 : Loss: 5.703787326812744, Accuracy: 0.01666666753590107\n",
            "Epoch 13 : Episode 30 : Loss: 5.703787326812744, Accuracy: 0.01666666753590107\n",
            "Epoch 13 : Episode 40 : Loss: 5.703787326812744, Accuracy: 0.01666666753590107\n",
            "Epoch 13 : Episode 50 : Loss: 5.703787326812744, Accuracy: 0.01666666753590107\n",
            "Epoch 13 : Episode 60 : Loss: 5.703787326812744, Accuracy: 0.01666666753590107\n",
            "Epoch 13 : Episode 70 : Loss: 5.703787326812744, Accuracy: 0.01666666753590107\n",
            "Epoch 13 : Episode 80 : Loss: 5.703787326812744, Accuracy: 0.01666666753590107\n",
            "Epoch 13 : Episode 90 : Loss: 5.703787326812744, Accuracy: 0.01666666753590107\n",
            "Epoch 13 : Episode 100 : Loss: 5.703787326812744, Accuracy: 0.01666666753590107\n",
            "Epoch 14 : Episode 10 : Loss: 5.703787326812744, Accuracy: 0.01666666753590107\n",
            "Epoch 14 : Episode 20 : Loss: 5.703787326812744, Accuracy: 0.01666666753590107\n",
            "Epoch 14 : Episode 30 : Loss: 5.703787326812744, Accuracy: 0.01666666753590107\n",
            "Epoch 14 : Episode 40 : Loss: 5.703787326812744, Accuracy: 0.01666666753590107\n",
            "Epoch 14 : Episode 50 : Loss: 5.703787326812744, Accuracy: 0.01666666753590107\n",
            "Epoch 14 : Episode 60 : Loss: 5.703787326812744, Accuracy: 0.01666666753590107\n",
            "Epoch 14 : Episode 70 : Loss: 5.703787326812744, Accuracy: 0.01666666753590107\n",
            "Epoch 14 : Episode 80 : Loss: 5.703787326812744, Accuracy: 0.01666666753590107\n",
            "Epoch 14 : Episode 90 : Loss: 5.703787326812744, Accuracy: 0.01666666753590107\n",
            "Epoch 14 : Episode 100 : Loss: 5.703787326812744, Accuracy: 0.01666666753590107\n",
            "Epoch 15 : Episode 10 : Loss: 5.703787326812744, Accuracy: 0.01666666753590107\n",
            "Epoch 15 : Episode 20 : Loss: 5.703787326812744, Accuracy: 0.01666666753590107\n",
            "Epoch 15 : Episode 30 : Loss: 5.703787326812744, Accuracy: 0.01666666753590107\n",
            "Epoch 15 : Episode 40 : Loss: 5.703787326812744, Accuracy: 0.01666666753590107\n",
            "Epoch 15 : Episode 50 : Loss: 5.703787326812744, Accuracy: 0.01666666753590107\n",
            "Epoch 15 : Episode 60 : Loss: 5.703787326812744, Accuracy: 0.01666666753590107\n",
            "Epoch 15 : Episode 70 : Loss: 5.703787326812744, Accuracy: 0.01666666753590107\n",
            "Epoch 15 : Episode 80 : Loss: 5.703787326812744, Accuracy: 0.01666666753590107\n",
            "Epoch 15 : Episode 90 : Loss: 5.703787326812744, Accuracy: 0.01666666753590107\n",
            "Epoch 15 : Episode 100 : Loss: 5.703787326812744, Accuracy: 0.01666666753590107\n",
            "Epoch 16 : Episode 10 : Loss: 5.703787326812744, Accuracy: 0.01666666753590107\n",
            "Epoch 16 : Episode 20 : Loss: 5.703787326812744, Accuracy: 0.01666666753590107\n",
            "Epoch 16 : Episode 30 : Loss: 5.703787326812744, Accuracy: 0.01666666753590107\n",
            "Epoch 16 : Episode 40 : Loss: 5.703787326812744, Accuracy: 0.01666666753590107\n",
            "Epoch 16 : Episode 50 : Loss: 5.703787326812744, Accuracy: 0.01666666753590107\n",
            "Epoch 16 : Episode 60 : Loss: 5.703787326812744, Accuracy: 0.01666666753590107\n",
            "Epoch 16 : Episode 70 : Loss: 5.703787326812744, Accuracy: 0.01666666753590107\n",
            "Epoch 16 : Episode 80 : Loss: 5.703787326812744, Accuracy: 0.01666666753590107\n",
            "Epoch 16 : Episode 90 : Loss: 5.703787326812744, Accuracy: 0.01666666753590107\n",
            "Epoch 16 : Episode 100 : Loss: 5.703787326812744, Accuracy: 0.01666666753590107\n",
            "Epoch 17 : Episode 10 : Loss: 5.703787326812744, Accuracy: 0.01666666753590107\n",
            "Epoch 17 : Episode 20 : Loss: 5.703787326812744, Accuracy: 0.01666666753590107\n",
            "Epoch 17 : Episode 30 : Loss: 5.703787326812744, Accuracy: 0.01666666753590107\n",
            "Epoch 17 : Episode 40 : Loss: 5.703787326812744, Accuracy: 0.01666666753590107\n",
            "Epoch 17 : Episode 50 : Loss: 5.703787326812744, Accuracy: 0.01666666753590107\n",
            "Epoch 17 : Episode 60 : Loss: 5.703787326812744, Accuracy: 0.01666666753590107\n",
            "Epoch 17 : Episode 70 : Loss: 5.703787326812744, Accuracy: 0.01666666753590107\n",
            "Epoch 17 : Episode 80 : Loss: 5.703787326812744, Accuracy: 0.01666666753590107\n",
            "Epoch 17 : Episode 90 : Loss: 5.703787326812744, Accuracy: 0.01666666753590107\n",
            "Epoch 17 : Episode 100 : Loss: 5.703787326812744, Accuracy: 0.01666666753590107\n",
            "Epoch 18 : Episode 10 : Loss: 5.703787326812744, Accuracy: 0.01666666753590107\n",
            "Epoch 18 : Episode 20 : Loss: 5.703787326812744, Accuracy: 0.01666666753590107\n",
            "Epoch 18 : Episode 30 : Loss: 5.703787326812744, Accuracy: 0.01666666753590107\n",
            "Epoch 18 : Episode 40 : Loss: 5.703787326812744, Accuracy: 0.01666666753590107\n",
            "Epoch 18 : Episode 50 : Loss: 5.703787326812744, Accuracy: 0.01666666753590107\n",
            "Epoch 18 : Episode 60 : Loss: 5.703787326812744, Accuracy: 0.01666666753590107\n",
            "Epoch 18 : Episode 70 : Loss: 5.703787326812744, Accuracy: 0.01666666753590107\n",
            "Epoch 18 : Episode 80 : Loss: 5.703787326812744, Accuracy: 0.01666666753590107\n",
            "Epoch 18 : Episode 90 : Loss: 5.703787326812744, Accuracy: 0.01666666753590107\n",
            "Epoch 18 : Episode 100 : Loss: 5.703787326812744, Accuracy: 0.01666666753590107\n",
            "Epoch 19 : Episode 10 : Loss: 5.703787326812744, Accuracy: 0.01666666753590107\n",
            "Epoch 19 : Episode 20 : Loss: 5.703787326812744, Accuracy: 0.01666666753590107\n",
            "Epoch 19 : Episode 30 : Loss: 5.703787326812744, Accuracy: 0.01666666753590107\n",
            "Epoch 19 : Episode 40 : Loss: 5.703787326812744, Accuracy: 0.01666666753590107\n",
            "Epoch 19 : Episode 50 : Loss: 5.703787326812744, Accuracy: 0.01666666753590107\n",
            "Epoch 19 : Episode 60 : Loss: 5.703787326812744, Accuracy: 0.01666666753590107\n",
            "Epoch 19 : Episode 70 : Loss: 5.703787326812744, Accuracy: 0.01666666753590107\n",
            "Epoch 19 : Episode 80 : Loss: 5.703787326812744, Accuracy: 0.01666666753590107\n",
            "Epoch 19 : Episode 90 : Loss: 5.703787326812744, Accuracy: 0.01666666753590107\n",
            "Epoch 19 : Episode 100 : Loss: 5.703787326812744, Accuracy: 0.01666666753590107\n",
            "Epoch 20 : Episode 10 : Loss: 5.703787326812744, Accuracy: 0.01666666753590107\n",
            "Epoch 20 : Episode 20 : Loss: 5.703787326812744, Accuracy: 0.01666666753590107\n",
            "Epoch 20 : Episode 30 : Loss: 5.703787326812744, Accuracy: 0.01666666753590107\n",
            "Epoch 20 : Episode 40 : Loss: 5.703787326812744, Accuracy: 0.01666666753590107\n",
            "Epoch 20 : Episode 50 : Loss: 5.703787326812744, Accuracy: 0.01666666753590107\n",
            "Epoch 20 : Episode 60 : Loss: 5.703787326812744, Accuracy: 0.01666666753590107\n",
            "Epoch 20 : Episode 70 : Loss: 5.703787326812744, Accuracy: 0.01666666753590107\n",
            "Epoch 20 : Episode 80 : Loss: 5.703787326812744, Accuracy: 0.01666666753590107\n",
            "Epoch 20 : Episode 90 : Loss: 5.703787326812744, Accuracy: 0.01666666753590107\n",
            "Epoch 20 : Episode 100 : Loss: 5.703787326812744, Accuracy: 0.01666666753590107\n"
          ],
          "name": "stdout"
        }
      ]
    }
  ]
}