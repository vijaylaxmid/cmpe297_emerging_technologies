{
  "nbformat": 4,
  "nbformat_minor": 0,
  "metadata": {
    "colab": {
      "name": "metaSGD_metalearning.ipynb",
      "provenance": []
    },
    "kernelspec": {
      "name": "python3",
      "display_name": "Python 3"
    },
    "accelerator": "GPU"
  },
  "cells": [
    {
      "cell_type": "code",
      "metadata": {
        "id": "5zWLF2VvorOm"
      },
      "source": [
        "import numpy as np"
      ],
      "execution_count": 2,
      "outputs": []
    },
    {
      "cell_type": "code",
      "metadata": {
        "id": "zgPJb3QMqVQO"
      },
      "source": [
        "def sample_points(k):\n",
        "    x = np.random.rand(k,50)\n",
        "    y = np.random.choice([0, 1], size=k, p=[.5, .5]).reshape([-1,1])\n",
        "    return x,y"
      ],
      "execution_count": 3,
      "outputs": []
    },
    {
      "cell_type": "code",
      "metadata": {
        "id": "_ftnowh0qZZf",
        "outputId": "ded22a43-9b6d-4eed-82bf-1aa24e5485b0",
        "colab": {
          "base_uri": "https://localhost:8080/"
        }
      },
      "source": [
        "x, y = sample_points(10)\n",
        "print(x[0])\n",
        "print(y[0])"
      ],
      "execution_count": 5,
      "outputs": [
        {
          "output_type": "stream",
          "text": [
            "[0.8017679  0.96667256 0.73501584 0.38690153 0.66686914 0.97028692\n",
            " 0.22755269 0.26462596 0.82438555 0.42964537 0.78110502 0.42226473\n",
            " 0.50737092 0.47277673 0.65071223 0.29569359 0.196243   0.39192707\n",
            " 0.71392578 0.6619055  0.64588097 0.68135705 0.93530307 0.20372237\n",
            " 0.43606416 0.0963778  0.34198783 0.08162723 0.12968039 0.04692132\n",
            " 0.94418586 0.93201099 0.6739965  0.4561092  0.25232453 0.86665634\n",
            " 0.17441861 0.06007013 0.22661892 0.03200376 0.74517442 0.75616657\n",
            " 0.26891726 0.34497139 0.83730274 0.63213361 0.13483709 0.45898834\n",
            " 0.4158796  0.83445775]\n",
            "[1]\n"
          ],
          "name": "stdout"
        }
      ]
    },
    {
      "cell_type": "code",
      "metadata": {
        "id": "xJnR7u-Eqg2Q"
      },
      "source": [
        "class MetaSGD(object):\n",
        "    def __init__(self):\n",
        "        \n",
        "        #initialize number of tasks i.e number of tasks we need in each batch of tasks\n",
        "        self.num_tasks = 2\n",
        "        \n",
        "        #number of samples i.e number of shots  -number of data points (k) we need to have in each task\n",
        "        self.num_samples = 10\n",
        "\n",
        "        #number of epochs i.e training iterations\n",
        "        self.epochs = 10000\n",
        "        \n",
        "        #hyperparameter for the inner loop (inner gradient update)\n",
        "        self.alpha = 0.0001\n",
        "        \n",
        "        #hyperparameter for the outer loop (outer gradient update) i.e meta optimization\n",
        "        self.beta = 0.0001\n",
        "       \n",
        "        #randomly initialize our model parameter theta\n",
        "        self.theta = np.random.normal(size=50).reshape(50, 1)\n",
        "         \n",
        "        #randomly initialize alpha with same shape as theta\n",
        "        self.alpha = np.random.normal(size=50).reshape(50, 1)\n",
        "      \n",
        "    #define our sigmoid activation function  \n",
        "    def sigmoid(self,a):\n",
        "        return 1.0 / (1 + np.exp(-a))\n",
        "    \n",
        "    \n",
        "    #now let us get to the interesting part i.e training :P\n",
        "    def train(self):\n",
        "        \n",
        "        #for the number of epochs,\n",
        "        for e in range(self.epochs):        \n",
        "            \n",
        "            self.theta_ = []\n",
        "            \n",
        "            #for task i in batch of tasks\n",
        "            for i in range(self.num_tasks):\n",
        "               \n",
        "                #sample k data points and prepare our train set\n",
        "                XTrain, YTrain = sample_points(self.num_samples)\n",
        "                \n",
        "                a = np.matmul(XTrain, self.theta)\n",
        "\n",
        "                YHat = self.sigmoid(a)\n",
        "\n",
        "                #since we are performing classification, we use cross entropy loss as our loss function\n",
        "                loss = ((np.matmul(-YTrain.T, np.log(YHat)) - np.matmul((1 -YTrain.T), np.log(1 - YHat)))/self.num_samples)[0][0]\n",
        "                \n",
        "                #minimize the loss by calculating gradients\n",
        "                gradient = np.matmul(XTrain.T, (YHat - YTrain)) / self.num_samples\n",
        "\n",
        "                #update the gradients and find the optimal parameter theta' for each of tasks\n",
        "                self.theta_.append(self.theta - (np.multiply(self.alpha,gradient)))\n",
        "                \n",
        "     \n",
        "            #initialize meta gradients\n",
        "            meta_gradient = np.zeros(self.theta.shape)\n",
        "                        \n",
        "            for i in range(self.num_tasks):\n",
        "            \n",
        "                #sample k data points and prepare our test set for meta training\n",
        "                XTest, YTest = sample_points(10)\n",
        "\n",
        "                #predict the value of y\n",
        "                a = np.matmul(XTest, self.theta_[i])\n",
        "                \n",
        "                YPred = self.sigmoid(a)\n",
        "                           \n",
        "                #compute meta gradients\n",
        "                meta_gradient += np.matmul(XTest.T, (YPred - YTest)) / self.num_samples\n",
        "\n",
        "            #update our randomly initialized model parameter theta with the meta gradients\n",
        "            self.theta = self.theta-self.beta*meta_gradient/self.num_tasks\n",
        "                       \n",
        "            #update our randomly initialized hyperparameter alpha with the meta gradients\n",
        "            self.alpha = self.alpha-self.beta*meta_gradient/self.num_tasks\n",
        "                                       \n",
        "            if e%1000==0:\n",
        "                print(\"Epoch {}: Loss {}\\n\".format(e,loss))           \n",
        "                print('Updated Model Parameter Theta\\n')\n",
        "                print('Sampling Next Batch of Tasks \\n')\n",
        "                print('---------------------------------\\n')"
      ],
      "execution_count": 8,
      "outputs": []
    },
    {
      "cell_type": "code",
      "metadata": {
        "id": "puBlp30gqsQe"
      },
      "source": [
        "model = MetaSGD()"
      ],
      "execution_count": 9,
      "outputs": []
    },
    {
      "cell_type": "code",
      "metadata": {
        "id": "Bs_xGUP5qvvV",
        "outputId": "44807570-aae3-4380-9b48-b9b6822ea372",
        "colab": {
          "base_uri": "https://localhost:8080/"
        }
      },
      "source": [
        "model.train()"
      ],
      "execution_count": 10,
      "outputs": [
        {
          "output_type": "stream",
          "text": [
            "Epoch 0: Loss 4.079379917799306\n",
            "\n",
            "Updated Model Parameter Theta\n",
            "\n",
            "Sampling Next Batch of Tasks \n",
            "\n",
            "---------------------------------\n",
            "\n",
            "Epoch 1000: Loss 4.14599895911081\n",
            "\n",
            "Updated Model Parameter Theta\n",
            "\n",
            "Sampling Next Batch of Tasks \n",
            "\n",
            "---------------------------------\n",
            "\n",
            "Epoch 2000: Loss 3.8260013450738968\n",
            "\n",
            "Updated Model Parameter Theta\n",
            "\n",
            "Sampling Next Batch of Tasks \n",
            "\n",
            "---------------------------------\n",
            "\n",
            "Epoch 3000: Loss 3.52535265066902\n",
            "\n",
            "Updated Model Parameter Theta\n",
            "\n",
            "Sampling Next Batch of Tasks \n",
            "\n",
            "---------------------------------\n",
            "\n",
            "Epoch 4000: Loss 1.8507314396846333\n",
            "\n",
            "Updated Model Parameter Theta\n",
            "\n",
            "Sampling Next Batch of Tasks \n",
            "\n",
            "---------------------------------\n",
            "\n",
            "Epoch 5000: Loss 2.719627488085057\n",
            "\n",
            "Updated Model Parameter Theta\n",
            "\n",
            "Sampling Next Batch of Tasks \n",
            "\n",
            "---------------------------------\n",
            "\n",
            "Epoch 6000: Loss 3.7540636119081348\n",
            "\n",
            "Updated Model Parameter Theta\n",
            "\n",
            "Sampling Next Batch of Tasks \n",
            "\n",
            "---------------------------------\n",
            "\n",
            "Epoch 7000: Loss 2.4482040594473107\n",
            "\n",
            "Updated Model Parameter Theta\n",
            "\n",
            "Sampling Next Batch of Tasks \n",
            "\n",
            "---------------------------------\n",
            "\n",
            "Epoch 8000: Loss 1.8957853916272551\n",
            "\n",
            "Updated Model Parameter Theta\n",
            "\n",
            "Sampling Next Batch of Tasks \n",
            "\n",
            "---------------------------------\n",
            "\n",
            "Epoch 9000: Loss 1.3461761088922368\n",
            "\n",
            "Updated Model Parameter Theta\n",
            "\n",
            "Sampling Next Batch of Tasks \n",
            "\n",
            "---------------------------------\n",
            "\n"
          ],
          "name": "stdout"
        }
      ]
    }
  ]
}